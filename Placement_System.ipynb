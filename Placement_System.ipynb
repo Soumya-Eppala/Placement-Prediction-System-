{
 "cells": [
  {
   "cell_type": "code",
   "execution_count": 1,
   "id": "87a0c348-752c-4ded-95c7-988843aa9ac6",
   "metadata": {},
   "outputs": [],
   "source": [
    "import pandas as pd\n",
    "path = 'C:\\\\Users\\\\soumy\\\\OneDrive\\\\Desktop\\\\MiniProject\\\\Studentdataset.csv'\n",
    "data = pd.read_csv(path)"
   ]
  },
  {
   "cell_type": "code",
   "execution_count": 2,
   "id": "8470859c-3805-4c10-aa93-4d0a796e4053",
   "metadata": {},
   "outputs": [
    {
     "name": "stdout",
     "output_type": "stream",
     "text": [
      "         RegNo.  Quants  LogicalReasoning  Verbal  Programming   CGPA  \\\n",
      "0    T150054001      11                11      10           11  10.00   \n",
      "1    T150054002       8                10      11           18   8.80   \n",
      "2    T150054003      11                11      10            8   9.63   \n",
      "3    T150054004      14                13       8            8   6.55   \n",
      "4    T150054005      10                 7       7           10   7.27   \n",
      "..          ...     ...               ...     ...          ...    ...   \n",
      "325  T150054326      22                25      24           23   9.35   \n",
      "326  T150054327      25                23      21           22   8.51   \n",
      "327  T150054328      21                23      24           25   8.82   \n",
      "328  T150054329      22                25      24           21   8.59   \n",
      "329  T150054330      21                21      23           22   8.50   \n",
      "\n",
      "     Networking  CloudComp  WebServices  DataAnalytics  QualityAssurance   AI  \\\n",
      "0           4.3        8.2          8.4            8.3               8.1  8.0   \n",
      "1           8.9        8.0          8.0            8.0               8.3  9.4   \n",
      "2           8.4        8.0          8.0            8.0               8.0  5.4   \n",
      "3           4.5        6.5          6.9            3.3               4.1  4.6   \n",
      "4           3.1        5.6          6.7            4.6               2.7  4.4   \n",
      "..          ...        ...          ...            ...               ...  ...   \n",
      "325         8.4        9.4          8.8            8.9               9.1  8.4   \n",
      "326         8.7        8.8          9.4            8.0               7.6  8.0   \n",
      "327         7.8        9.3          9.0            8.6               8.1  8.7   \n",
      "328         7.9        9.4          9.1            9.0               8.3  8.8   \n",
      "329         7.9        9.2          9.3            8.9               7.7  8.1   \n",
      "\n",
      "     Placed  \n",
      "0         1  \n",
      "1         1  \n",
      "2         1  \n",
      "3         0  \n",
      "4         0  \n",
      "..      ...  \n",
      "325       0  \n",
      "326       0  \n",
      "327       0  \n",
      "328       1  \n",
      "329       1  \n",
      "\n",
      "[330 rows x 13 columns]\n"
     ]
    }
   ],
   "source": [
    "print(data)"
   ]
  },
  {
   "cell_type": "code",
   "execution_count": 3,
   "id": "36e3592e-2fbb-4838-ac0c-26993c57f5a8",
   "metadata": {},
   "outputs": [],
   "source": [
    "import warnings\n",
    "warnings.filterwarnings('ignore')\n"
   ]
  },
  {
   "cell_type": "code",
   "execution_count": 4,
   "id": "d4cc0f4e-5a3e-42d6-bd59-b62fc7e560f4",
   "metadata": {},
   "outputs": [
    {
     "data": {
      "text/html": [
       "<div>\n",
       "<style scoped>\n",
       "    .dataframe tbody tr th:only-of-type {\n",
       "        vertical-align: middle;\n",
       "    }\n",
       "\n",
       "    .dataframe tbody tr th {\n",
       "        vertical-align: top;\n",
       "    }\n",
       "\n",
       "    .dataframe thead th {\n",
       "        text-align: right;\n",
       "    }\n",
       "</style>\n",
       "<table border=\"1\" class=\"dataframe\">\n",
       "  <thead>\n",
       "    <tr style=\"text-align: right;\">\n",
       "      <th></th>\n",
       "      <th>RegNo.</th>\n",
       "      <th>Quants</th>\n",
       "      <th>LogicalReasoning</th>\n",
       "      <th>Verbal</th>\n",
       "      <th>Programming</th>\n",
       "      <th>CGPA</th>\n",
       "      <th>Networking</th>\n",
       "      <th>CloudComp</th>\n",
       "      <th>WebServices</th>\n",
       "      <th>DataAnalytics</th>\n",
       "      <th>QualityAssurance</th>\n",
       "      <th>AI</th>\n",
       "      <th>Placed</th>\n",
       "    </tr>\n",
       "  </thead>\n",
       "  <tbody>\n",
       "    <tr>\n",
       "      <th>0</th>\n",
       "      <td>T150054001</td>\n",
       "      <td>11</td>\n",
       "      <td>11</td>\n",
       "      <td>10</td>\n",
       "      <td>11</td>\n",
       "      <td>10.00</td>\n",
       "      <td>4.3</td>\n",
       "      <td>8.2</td>\n",
       "      <td>8.4</td>\n",
       "      <td>8.3</td>\n",
       "      <td>8.1</td>\n",
       "      <td>8.0</td>\n",
       "      <td>1</td>\n",
       "    </tr>\n",
       "    <tr>\n",
       "      <th>1</th>\n",
       "      <td>T150054002</td>\n",
       "      <td>8</td>\n",
       "      <td>10</td>\n",
       "      <td>11</td>\n",
       "      <td>18</td>\n",
       "      <td>8.80</td>\n",
       "      <td>8.9</td>\n",
       "      <td>8.0</td>\n",
       "      <td>8.0</td>\n",
       "      <td>8.0</td>\n",
       "      <td>8.3</td>\n",
       "      <td>9.4</td>\n",
       "      <td>1</td>\n",
       "    </tr>\n",
       "    <tr>\n",
       "      <th>2</th>\n",
       "      <td>T150054003</td>\n",
       "      <td>11</td>\n",
       "      <td>11</td>\n",
       "      <td>10</td>\n",
       "      <td>8</td>\n",
       "      <td>9.63</td>\n",
       "      <td>8.4</td>\n",
       "      <td>8.0</td>\n",
       "      <td>8.0</td>\n",
       "      <td>8.0</td>\n",
       "      <td>8.0</td>\n",
       "      <td>5.4</td>\n",
       "      <td>1</td>\n",
       "    </tr>\n",
       "    <tr>\n",
       "      <th>3</th>\n",
       "      <td>T150054004</td>\n",
       "      <td>14</td>\n",
       "      <td>13</td>\n",
       "      <td>8</td>\n",
       "      <td>8</td>\n",
       "      <td>6.55</td>\n",
       "      <td>4.5</td>\n",
       "      <td>6.5</td>\n",
       "      <td>6.9</td>\n",
       "      <td>3.3</td>\n",
       "      <td>4.1</td>\n",
       "      <td>4.6</td>\n",
       "      <td>0</td>\n",
       "    </tr>\n",
       "    <tr>\n",
       "      <th>4</th>\n",
       "      <td>T150054005</td>\n",
       "      <td>10</td>\n",
       "      <td>7</td>\n",
       "      <td>7</td>\n",
       "      <td>10</td>\n",
       "      <td>7.27</td>\n",
       "      <td>3.1</td>\n",
       "      <td>5.6</td>\n",
       "      <td>6.7</td>\n",
       "      <td>4.6</td>\n",
       "      <td>2.7</td>\n",
       "      <td>4.4</td>\n",
       "      <td>0</td>\n",
       "    </tr>\n",
       "  </tbody>\n",
       "</table>\n",
       "</div>"
      ],
      "text/plain": [
       "       RegNo.  Quants  LogicalReasoning  Verbal  Programming   CGPA  \\\n",
       "0  T150054001      11                11      10           11  10.00   \n",
       "1  T150054002       8                10      11           18   8.80   \n",
       "2  T150054003      11                11      10            8   9.63   \n",
       "3  T150054004      14                13       8            8   6.55   \n",
       "4  T150054005      10                 7       7           10   7.27   \n",
       "\n",
       "   Networking  CloudComp  WebServices  DataAnalytics  QualityAssurance   AI  \\\n",
       "0         4.3        8.2          8.4            8.3               8.1  8.0   \n",
       "1         8.9        8.0          8.0            8.0               8.3  9.4   \n",
       "2         8.4        8.0          8.0            8.0               8.0  5.4   \n",
       "3         4.5        6.5          6.9            3.3               4.1  4.6   \n",
       "4         3.1        5.6          6.7            4.6               2.7  4.4   \n",
       "\n",
       "   Placed  \n",
       "0       1  \n",
       "1       1  \n",
       "2       1  \n",
       "3       0  \n",
       "4       0  "
      ]
     },
     "execution_count": 4,
     "metadata": {},
     "output_type": "execute_result"
    }
   ],
   "source": [
    "data.head()"
   ]
  },
  {
   "cell_type": "code",
   "execution_count": 5,
   "id": "6afde42e-30d6-4728-b89c-401702317a26",
   "metadata": {},
   "outputs": [
    {
     "data": {
      "text/html": [
       "<div>\n",
       "<style scoped>\n",
       "    .dataframe tbody tr th:only-of-type {\n",
       "        vertical-align: middle;\n",
       "    }\n",
       "\n",
       "    .dataframe tbody tr th {\n",
       "        vertical-align: top;\n",
       "    }\n",
       "\n",
       "    .dataframe thead th {\n",
       "        text-align: right;\n",
       "    }\n",
       "</style>\n",
       "<table border=\"1\" class=\"dataframe\">\n",
       "  <thead>\n",
       "    <tr style=\"text-align: right;\">\n",
       "      <th></th>\n",
       "      <th>RegNo.</th>\n",
       "      <th>Quants</th>\n",
       "      <th>LogicalReasoning</th>\n",
       "      <th>Verbal</th>\n",
       "      <th>Programming</th>\n",
       "      <th>CGPA</th>\n",
       "      <th>Networking</th>\n",
       "      <th>CloudComp</th>\n",
       "      <th>WebServices</th>\n",
       "      <th>DataAnalytics</th>\n",
       "      <th>QualityAssurance</th>\n",
       "      <th>AI</th>\n",
       "      <th>Placed</th>\n",
       "    </tr>\n",
       "  </thead>\n",
       "  <tbody>\n",
       "    <tr>\n",
       "      <th>325</th>\n",
       "      <td>T150054326</td>\n",
       "      <td>22</td>\n",
       "      <td>25</td>\n",
       "      <td>24</td>\n",
       "      <td>23</td>\n",
       "      <td>9.35</td>\n",
       "      <td>8.4</td>\n",
       "      <td>9.4</td>\n",
       "      <td>8.8</td>\n",
       "      <td>8.9</td>\n",
       "      <td>9.1</td>\n",
       "      <td>8.4</td>\n",
       "      <td>0</td>\n",
       "    </tr>\n",
       "    <tr>\n",
       "      <th>326</th>\n",
       "      <td>T150054327</td>\n",
       "      <td>25</td>\n",
       "      <td>23</td>\n",
       "      <td>21</td>\n",
       "      <td>22</td>\n",
       "      <td>8.51</td>\n",
       "      <td>8.7</td>\n",
       "      <td>8.8</td>\n",
       "      <td>9.4</td>\n",
       "      <td>8.0</td>\n",
       "      <td>7.6</td>\n",
       "      <td>8.0</td>\n",
       "      <td>0</td>\n",
       "    </tr>\n",
       "    <tr>\n",
       "      <th>327</th>\n",
       "      <td>T150054328</td>\n",
       "      <td>21</td>\n",
       "      <td>23</td>\n",
       "      <td>24</td>\n",
       "      <td>25</td>\n",
       "      <td>8.82</td>\n",
       "      <td>7.8</td>\n",
       "      <td>9.3</td>\n",
       "      <td>9.0</td>\n",
       "      <td>8.6</td>\n",
       "      <td>8.1</td>\n",
       "      <td>8.7</td>\n",
       "      <td>0</td>\n",
       "    </tr>\n",
       "    <tr>\n",
       "      <th>328</th>\n",
       "      <td>T150054329</td>\n",
       "      <td>22</td>\n",
       "      <td>25</td>\n",
       "      <td>24</td>\n",
       "      <td>21</td>\n",
       "      <td>8.59</td>\n",
       "      <td>7.9</td>\n",
       "      <td>9.4</td>\n",
       "      <td>9.1</td>\n",
       "      <td>9.0</td>\n",
       "      <td>8.3</td>\n",
       "      <td>8.8</td>\n",
       "      <td>1</td>\n",
       "    </tr>\n",
       "    <tr>\n",
       "      <th>329</th>\n",
       "      <td>T150054330</td>\n",
       "      <td>21</td>\n",
       "      <td>21</td>\n",
       "      <td>23</td>\n",
       "      <td>22</td>\n",
       "      <td>8.50</td>\n",
       "      <td>7.9</td>\n",
       "      <td>9.2</td>\n",
       "      <td>9.3</td>\n",
       "      <td>8.9</td>\n",
       "      <td>7.7</td>\n",
       "      <td>8.1</td>\n",
       "      <td>1</td>\n",
       "    </tr>\n",
       "  </tbody>\n",
       "</table>\n",
       "</div>"
      ],
      "text/plain": [
       "         RegNo.  Quants  LogicalReasoning  Verbal  Programming  CGPA  \\\n",
       "325  T150054326      22                25      24           23  9.35   \n",
       "326  T150054327      25                23      21           22  8.51   \n",
       "327  T150054328      21                23      24           25  8.82   \n",
       "328  T150054329      22                25      24           21  8.59   \n",
       "329  T150054330      21                21      23           22  8.50   \n",
       "\n",
       "     Networking  CloudComp  WebServices  DataAnalytics  QualityAssurance   AI  \\\n",
       "325         8.4        9.4          8.8            8.9               9.1  8.4   \n",
       "326         8.7        8.8          9.4            8.0               7.6  8.0   \n",
       "327         7.8        9.3          9.0            8.6               8.1  8.7   \n",
       "328         7.9        9.4          9.1            9.0               8.3  8.8   \n",
       "329         7.9        9.2          9.3            8.9               7.7  8.1   \n",
       "\n",
       "     Placed  \n",
       "325       0  \n",
       "326       0  \n",
       "327       0  \n",
       "328       1  \n",
       "329       1  "
      ]
     },
     "execution_count": 5,
     "metadata": {},
     "output_type": "execute_result"
    }
   ],
   "source": [
    "data.tail()"
   ]
  },
  {
   "cell_type": "code",
   "execution_count": 6,
   "id": "14ac2dc2-99c2-404a-aaf9-dea126324b4b",
   "metadata": {},
   "outputs": [
    {
     "data": {
      "text/plain": [
       "(330, 13)"
      ]
     },
     "execution_count": 6,
     "metadata": {},
     "output_type": "execute_result"
    }
   ],
   "source": [
    "data.shape"
   ]
  },
  {
   "cell_type": "code",
   "execution_count": 7,
   "id": "9c9c4250-6883-4c1a-8a70-dfa111bf5436",
   "metadata": {},
   "outputs": [
    {
     "name": "stdout",
     "output_type": "stream",
     "text": [
      "<class 'pandas.core.frame.DataFrame'>\n",
      "RangeIndex: 330 entries, 0 to 329\n",
      "Data columns (total 13 columns):\n",
      " #   Column            Non-Null Count  Dtype  \n",
      "---  ------            --------------  -----  \n",
      " 0   RegNo.            330 non-null    object \n",
      " 1   Quants            330 non-null    int64  \n",
      " 2   LogicalReasoning  330 non-null    int64  \n",
      " 3   Verbal            330 non-null    int64  \n",
      " 4   Programming       330 non-null    int64  \n",
      " 5   CGPA              330 non-null    float64\n",
      " 6   Networking        330 non-null    float64\n",
      " 7   CloudComp         330 non-null    float64\n",
      " 8   WebServices       330 non-null    float64\n",
      " 9   DataAnalytics     330 non-null    float64\n",
      " 10  QualityAssurance  330 non-null    float64\n",
      " 11  AI                330 non-null    float64\n",
      " 12  Placed            330 non-null    int64  \n",
      "dtypes: float64(7), int64(5), object(1)\n",
      "memory usage: 33.6+ KB\n"
     ]
    }
   ],
   "source": [
    "data.info()"
   ]
  },
  {
   "cell_type": "code",
   "execution_count": 8,
   "id": "fb66c7f0-e5d0-4bdc-8b5d-0a4fed6ce15b",
   "metadata": {},
   "outputs": [
    {
     "data": {
      "text/plain": [
       "RegNo.              0\n",
       "Quants              0\n",
       "LogicalReasoning    0\n",
       "Verbal              0\n",
       "Programming         0\n",
       "CGPA                0\n",
       "Networking          0\n",
       "CloudComp           0\n",
       "WebServices         0\n",
       "DataAnalytics       0\n",
       "QualityAssurance    0\n",
       "AI                  0\n",
       "Placed              0\n",
       "dtype: int64"
      ]
     },
     "execution_count": 8,
     "metadata": {},
     "output_type": "execute_result"
    }
   ],
   "source": [
    "data.isnull().sum()"
   ]
  },
  {
   "cell_type": "code",
   "execution_count": 9,
   "id": "c2140654-bf5d-4eb2-be9b-eef26a9d30da",
   "metadata": {},
   "outputs": [
    {
     "data": {
      "text/html": [
       "<div>\n",
       "<style scoped>\n",
       "    .dataframe tbody tr th:only-of-type {\n",
       "        vertical-align: middle;\n",
       "    }\n",
       "\n",
       "    .dataframe tbody tr th {\n",
       "        vertical-align: top;\n",
       "    }\n",
       "\n",
       "    .dataframe thead th {\n",
       "        text-align: right;\n",
       "    }\n",
       "</style>\n",
       "<table border=\"1\" class=\"dataframe\">\n",
       "  <thead>\n",
       "    <tr style=\"text-align: right;\">\n",
       "      <th></th>\n",
       "      <th>Quants</th>\n",
       "      <th>LogicalReasoning</th>\n",
       "      <th>Verbal</th>\n",
       "      <th>Programming</th>\n",
       "      <th>CGPA</th>\n",
       "      <th>Networking</th>\n",
       "      <th>CloudComp</th>\n",
       "      <th>WebServices</th>\n",
       "      <th>DataAnalytics</th>\n",
       "      <th>QualityAssurance</th>\n",
       "      <th>AI</th>\n",
       "      <th>Placed</th>\n",
       "    </tr>\n",
       "  </thead>\n",
       "  <tbody>\n",
       "    <tr>\n",
       "      <th>count</th>\n",
       "      <td>330.000000</td>\n",
       "      <td>330.000000</td>\n",
       "      <td>330.000000</td>\n",
       "      <td>330.000000</td>\n",
       "      <td>330.000000</td>\n",
       "      <td>330.000000</td>\n",
       "      <td>330.000000</td>\n",
       "      <td>330.000000</td>\n",
       "      <td>330.000000</td>\n",
       "      <td>330.000000</td>\n",
       "      <td>330.000000</td>\n",
       "      <td>330.000000</td>\n",
       "    </tr>\n",
       "    <tr>\n",
       "      <th>mean</th>\n",
       "      <td>15.830303</td>\n",
       "      <td>15.990909</td>\n",
       "      <td>15.872727</td>\n",
       "      <td>15.957576</td>\n",
       "      <td>7.995636</td>\n",
       "      <td>6.360303</td>\n",
       "      <td>7.720606</td>\n",
       "      <td>7.796667</td>\n",
       "      <td>6.517576</td>\n",
       "      <td>6.414848</td>\n",
       "      <td>6.707576</td>\n",
       "      <td>0.363636</td>\n",
       "    </tr>\n",
       "    <tr>\n",
       "      <th>std</th>\n",
       "      <td>4.266394</td>\n",
       "      <td>4.432188</td>\n",
       "      <td>4.353196</td>\n",
       "      <td>4.151905</td>\n",
       "      <td>0.660623</td>\n",
       "      <td>1.605944</td>\n",
       "      <td>0.936039</td>\n",
       "      <td>0.889258</td>\n",
       "      <td>1.524788</td>\n",
       "      <td>1.727814</td>\n",
       "      <td>1.332310</td>\n",
       "      <td>0.481776</td>\n",
       "    </tr>\n",
       "    <tr>\n",
       "      <th>min</th>\n",
       "      <td>7.000000</td>\n",
       "      <td>7.000000</td>\n",
       "      <td>7.000000</td>\n",
       "      <td>7.000000</td>\n",
       "      <td>6.410000</td>\n",
       "      <td>2.500000</td>\n",
       "      <td>5.000000</td>\n",
       "      <td>5.500000</td>\n",
       "      <td>2.500000</td>\n",
       "      <td>1.800000</td>\n",
       "      <td>4.300000</td>\n",
       "      <td>0.000000</td>\n",
       "    </tr>\n",
       "    <tr>\n",
       "      <th>25%</th>\n",
       "      <td>14.000000</td>\n",
       "      <td>14.000000</td>\n",
       "      <td>14.000000</td>\n",
       "      <td>14.000000</td>\n",
       "      <td>7.590000</td>\n",
       "      <td>5.700000</td>\n",
       "      <td>7.500000</td>\n",
       "      <td>7.500000</td>\n",
       "      <td>5.700000</td>\n",
       "      <td>5.700000</td>\n",
       "      <td>5.700000</td>\n",
       "      <td>0.000000</td>\n",
       "    </tr>\n",
       "    <tr>\n",
       "      <th>50%</th>\n",
       "      <td>16.000000</td>\n",
       "      <td>16.000000</td>\n",
       "      <td>16.000000</td>\n",
       "      <td>16.000000</td>\n",
       "      <td>8.035000</td>\n",
       "      <td>6.600000</td>\n",
       "      <td>8.000000</td>\n",
       "      <td>7.900000</td>\n",
       "      <td>6.700000</td>\n",
       "      <td>6.650000</td>\n",
       "      <td>6.600000</td>\n",
       "      <td>0.000000</td>\n",
       "    </tr>\n",
       "    <tr>\n",
       "      <th>75%</th>\n",
       "      <td>19.000000</td>\n",
       "      <td>19.000000</td>\n",
       "      <td>19.000000</td>\n",
       "      <td>19.000000</td>\n",
       "      <td>8.400000</td>\n",
       "      <td>7.400000</td>\n",
       "      <td>8.300000</td>\n",
       "      <td>8.300000</td>\n",
       "      <td>7.500000</td>\n",
       "      <td>7.475000</td>\n",
       "      <td>7.650000</td>\n",
       "      <td>1.000000</td>\n",
       "    </tr>\n",
       "    <tr>\n",
       "      <th>max</th>\n",
       "      <td>25.000000</td>\n",
       "      <td>25.000000</td>\n",
       "      <td>25.000000</td>\n",
       "      <td>25.000000</td>\n",
       "      <td>10.000000</td>\n",
       "      <td>9.700000</td>\n",
       "      <td>9.500000</td>\n",
       "      <td>9.500000</td>\n",
       "      <td>9.400000</td>\n",
       "      <td>9.500000</td>\n",
       "      <td>9.800000</td>\n",
       "      <td>1.000000</td>\n",
       "    </tr>\n",
       "  </tbody>\n",
       "</table>\n",
       "</div>"
      ],
      "text/plain": [
       "           Quants  LogicalReasoning      Verbal  Programming        CGPA  \\\n",
       "count  330.000000        330.000000  330.000000   330.000000  330.000000   \n",
       "mean    15.830303         15.990909   15.872727    15.957576    7.995636   \n",
       "std      4.266394          4.432188    4.353196     4.151905    0.660623   \n",
       "min      7.000000          7.000000    7.000000     7.000000    6.410000   \n",
       "25%     14.000000         14.000000   14.000000    14.000000    7.590000   \n",
       "50%     16.000000         16.000000   16.000000    16.000000    8.035000   \n",
       "75%     19.000000         19.000000   19.000000    19.000000    8.400000   \n",
       "max     25.000000         25.000000   25.000000    25.000000   10.000000   \n",
       "\n",
       "       Networking   CloudComp  WebServices  DataAnalytics  QualityAssurance  \\\n",
       "count  330.000000  330.000000   330.000000     330.000000        330.000000   \n",
       "mean     6.360303    7.720606     7.796667       6.517576          6.414848   \n",
       "std      1.605944    0.936039     0.889258       1.524788          1.727814   \n",
       "min      2.500000    5.000000     5.500000       2.500000          1.800000   \n",
       "25%      5.700000    7.500000     7.500000       5.700000          5.700000   \n",
       "50%      6.600000    8.000000     7.900000       6.700000          6.650000   \n",
       "75%      7.400000    8.300000     8.300000       7.500000          7.475000   \n",
       "max      9.700000    9.500000     9.500000       9.400000          9.500000   \n",
       "\n",
       "               AI      Placed  \n",
       "count  330.000000  330.000000  \n",
       "mean     6.707576    0.363636  \n",
       "std      1.332310    0.481776  \n",
       "min      4.300000    0.000000  \n",
       "25%      5.700000    0.000000  \n",
       "50%      6.600000    0.000000  \n",
       "75%      7.650000    1.000000  \n",
       "max      9.800000    1.000000  "
      ]
     },
     "execution_count": 9,
     "metadata": {},
     "output_type": "execute_result"
    }
   ],
   "source": [
    "data.describe()"
   ]
  },
  {
   "cell_type": "code",
   "execution_count": 10,
   "id": "aa650cd9-118d-4137-83cd-11c37b2371fa",
   "metadata": {},
   "outputs": [
    {
     "data": {
      "text/plain": [
       "Index(['RegNo.', 'Quants', 'LogicalReasoning', 'Verbal', 'Programming', 'CGPA',\n",
       "       'Networking', 'CloudComp', 'WebServices', 'DataAnalytics',\n",
       "       'QualityAssurance', 'AI', 'Placed'],\n",
       "      dtype='object')"
      ]
     },
     "execution_count": 10,
     "metadata": {},
     "output_type": "execute_result"
    }
   ],
   "source": [
    "data.columns"
   ]
  },
  {
   "cell_type": "code",
   "execution_count": 11,
   "id": "a7c4214e-d3c7-4f38-bdc2-9e9b0750e3b5",
   "metadata": {},
   "outputs": [
    {
     "data": {
      "text/plain": [
       "array([1, 0], dtype=int64)"
      ]
     },
     "execution_count": 11,
     "metadata": {},
     "output_type": "execute_result"
    }
   ],
   "source": [
    "data['Placed'].unique()"
   ]
  },
  {
   "cell_type": "code",
   "execution_count": 12,
   "id": "2f9353e4-d4d9-4a6f-a41d-6c206492665d",
   "metadata": {},
   "outputs": [
    {
     "name": "stdout",
     "output_type": "stream",
     "text": [
      "Index(['RegNo.', 'Quants', 'LogicalReasoning', 'Verbal', 'Programming', 'CGPA',\n",
      "       'Networking', 'CloudComp', 'WebServices', 'DataAnalytics',\n",
      "       'QualityAssurance', 'AI', 'Placed'],\n",
      "      dtype='object')\n"
     ]
    }
   ],
   "source": [
    "print(data.columns)"
   ]
  },
  {
   "cell_type": "code",
   "execution_count": 13,
   "id": "9ac2d72a-0ec1-4ede-ae7f-b31f48ac801a",
   "metadata": {},
   "outputs": [
    {
     "data": {
      "text/plain": [
       "Placed\n",
       "0    210\n",
       "1    120\n",
       "Name: count, dtype: int64"
      ]
     },
     "execution_count": 13,
     "metadata": {},
     "output_type": "execute_result"
    }
   ],
   "source": [
    "data['Placed'].value_counts()"
   ]
  },
  {
   "cell_type": "code",
   "execution_count": 14,
   "id": "5434a457-e895-428b-a0e7-81eafae38bf5",
   "metadata": {},
   "outputs": [],
   "source": [
    "data = data.drop(['RegNo.'],axis=1)"
   ]
  },
  {
   "cell_type": "code",
   "execution_count": 15,
   "id": "f5f6d3eb-32ad-479e-9db0-8f220f021427",
   "metadata": {},
   "outputs": [],
   "source": [
    "X = data.drop('Placed',axis=1)\n",
    "y= data['Placed']"
   ]
  },
  {
   "cell_type": "code",
   "execution_count": 16,
   "id": "e80d6056-1107-4662-b55d-7934be1012d2",
   "metadata": {},
   "outputs": [],
   "source": [
    "#Split data into training and testing \n",
    "from sklearn.model_selection import train_test_split\n",
    "X_train, X_test,y_train,y_test=train_test_split(X,y,test_size=0.30,random_state=42)\n",
    "X_train, X_test,y_train,y_test=train_test_split(X,y,test_size=0.30,random_state=42)"
   ]
  },
  {
   "cell_type": "code",
   "execution_count": null,
   "id": "2cc87fe2-b89a-489b-8e03-e74529d395ba",
   "metadata": {},
   "outputs": [],
   "source": []
  },
  {
   "cell_type": "code",
   "execution_count": 17,
   "id": "8b9022e4-f065-4756-b09c-07e20c6e1e4b",
   "metadata": {},
   "outputs": [],
   "source": [
    "from sklearn.preprocessing import MinMaxScaler\n",
    "mm = MinMaxScaler()"
   ]
  },
  {
   "cell_type": "code",
   "execution_count": 18,
   "id": "545d1b13-157e-48ac-a672-838d13bb6b87",
   "metadata": {},
   "outputs": [],
   "source": [
    "X_train = mm.fit_transform(X_train)\n",
    "X_test =mm.transform(X_test)"
   ]
  },
  {
   "cell_type": "code",
   "execution_count": 19,
   "id": "bf44a578-3763-467e-93a0-8c8f12a1f2a8",
   "metadata": {},
   "outputs": [
    {
     "data": {
      "text/html": [
       "<div>\n",
       "<style scoped>\n",
       "    .dataframe tbody tr th:only-of-type {\n",
       "        vertical-align: middle;\n",
       "    }\n",
       "\n",
       "    .dataframe tbody tr th {\n",
       "        vertical-align: top;\n",
       "    }\n",
       "\n",
       "    .dataframe thead th {\n",
       "        text-align: right;\n",
       "    }\n",
       "</style>\n",
       "<table border=\"1\" class=\"dataframe\">\n",
       "  <thead>\n",
       "    <tr style=\"text-align: right;\">\n",
       "      <th></th>\n",
       "      <th>0</th>\n",
       "      <th>1</th>\n",
       "      <th>2</th>\n",
       "      <th>3</th>\n",
       "      <th>4</th>\n",
       "      <th>5</th>\n",
       "      <th>6</th>\n",
       "      <th>7</th>\n",
       "      <th>8</th>\n",
       "      <th>9</th>\n",
       "      <th>10</th>\n",
       "    </tr>\n",
       "  </thead>\n",
       "  <tbody>\n",
       "    <tr>\n",
       "      <th>count</th>\n",
       "      <td>231.000000</td>\n",
       "      <td>231.000000</td>\n",
       "      <td>231.000000</td>\n",
       "      <td>231.000000</td>\n",
       "      <td>231.000000</td>\n",
       "      <td>231.000000</td>\n",
       "      <td>231.000000</td>\n",
       "      <td>231.000000</td>\n",
       "      <td>231.000000</td>\n",
       "      <td>231.000000</td>\n",
       "      <td>231.000000</td>\n",
       "    </tr>\n",
       "    <tr>\n",
       "      <th>mean</th>\n",
       "      <td>0.488696</td>\n",
       "      <td>0.513228</td>\n",
       "      <td>0.492785</td>\n",
       "      <td>0.497595</td>\n",
       "      <td>0.446044</td>\n",
       "      <td>0.544613</td>\n",
       "      <td>0.616490</td>\n",
       "      <td>0.592519</td>\n",
       "      <td>0.585608</td>\n",
       "      <td>0.613010</td>\n",
       "      <td>0.450138</td>\n",
       "    </tr>\n",
       "    <tr>\n",
       "      <th>std</th>\n",
       "      <td>0.238629</td>\n",
       "      <td>0.239035</td>\n",
       "      <td>0.233647</td>\n",
       "      <td>0.221544</td>\n",
       "      <td>0.186027</td>\n",
       "      <td>0.217894</td>\n",
       "      <td>0.217287</td>\n",
       "      <td>0.223548</td>\n",
       "      <td>0.218309</td>\n",
       "      <td>0.217075</td>\n",
       "      <td>0.241187</td>\n",
       "    </tr>\n",
       "    <tr>\n",
       "      <th>min</th>\n",
       "      <td>0.000000</td>\n",
       "      <td>0.000000</td>\n",
       "      <td>0.000000</td>\n",
       "      <td>0.000000</td>\n",
       "      <td>0.000000</td>\n",
       "      <td>0.000000</td>\n",
       "      <td>0.000000</td>\n",
       "      <td>0.000000</td>\n",
       "      <td>0.000000</td>\n",
       "      <td>0.000000</td>\n",
       "      <td>0.000000</td>\n",
       "    </tr>\n",
       "    <tr>\n",
       "      <th>25%</th>\n",
       "      <td>0.361111</td>\n",
       "      <td>0.388889</td>\n",
       "      <td>0.388889</td>\n",
       "      <td>0.388889</td>\n",
       "      <td>0.327298</td>\n",
       "      <td>0.444444</td>\n",
       "      <td>0.556818</td>\n",
       "      <td>0.512821</td>\n",
       "      <td>0.463768</td>\n",
       "      <td>0.526316</td>\n",
       "      <td>0.272727</td>\n",
       "    </tr>\n",
       "    <tr>\n",
       "      <th>50%</th>\n",
       "      <td>0.500000</td>\n",
       "      <td>0.555556</td>\n",
       "      <td>0.500000</td>\n",
       "      <td>0.500000</td>\n",
       "      <td>0.454039</td>\n",
       "      <td>0.583333</td>\n",
       "      <td>0.659091</td>\n",
       "      <td>0.615385</td>\n",
       "      <td>0.608696</td>\n",
       "      <td>0.644737</td>\n",
       "      <td>0.454545</td>\n",
       "    </tr>\n",
       "    <tr>\n",
       "      <th>75%</th>\n",
       "      <td>0.666667</td>\n",
       "      <td>0.722222</td>\n",
       "      <td>0.666667</td>\n",
       "      <td>0.666667</td>\n",
       "      <td>0.555710</td>\n",
       "      <td>0.680556</td>\n",
       "      <td>0.750000</td>\n",
       "      <td>0.743590</td>\n",
       "      <td>0.724638</td>\n",
       "      <td>0.750000</td>\n",
       "      <td>0.645455</td>\n",
       "    </tr>\n",
       "    <tr>\n",
       "      <th>max</th>\n",
       "      <td>1.000000</td>\n",
       "      <td>1.000000</td>\n",
       "      <td>1.000000</td>\n",
       "      <td>1.000000</td>\n",
       "      <td>1.000000</td>\n",
       "      <td>1.000000</td>\n",
       "      <td>1.000000</td>\n",
       "      <td>1.000000</td>\n",
       "      <td>1.000000</td>\n",
       "      <td>1.000000</td>\n",
       "      <td>1.000000</td>\n",
       "    </tr>\n",
       "  </tbody>\n",
       "</table>\n",
       "</div>"
      ],
      "text/plain": [
       "               0           1           2           3           4           5   \\\n",
       "count  231.000000  231.000000  231.000000  231.000000  231.000000  231.000000   \n",
       "mean     0.488696    0.513228    0.492785    0.497595    0.446044    0.544613   \n",
       "std      0.238629    0.239035    0.233647    0.221544    0.186027    0.217894   \n",
       "min      0.000000    0.000000    0.000000    0.000000    0.000000    0.000000   \n",
       "25%      0.361111    0.388889    0.388889    0.388889    0.327298    0.444444   \n",
       "50%      0.500000    0.555556    0.500000    0.500000    0.454039    0.583333   \n",
       "75%      0.666667    0.722222    0.666667    0.666667    0.555710    0.680556   \n",
       "max      1.000000    1.000000    1.000000    1.000000    1.000000    1.000000   \n",
       "\n",
       "               6           7           8           9           10  \n",
       "count  231.000000  231.000000  231.000000  231.000000  231.000000  \n",
       "mean     0.616490    0.592519    0.585608    0.613010    0.450138  \n",
       "std      0.217287    0.223548    0.218309    0.217075    0.241187  \n",
       "min      0.000000    0.000000    0.000000    0.000000    0.000000  \n",
       "25%      0.556818    0.512821    0.463768    0.526316    0.272727  \n",
       "50%      0.659091    0.615385    0.608696    0.644737    0.454545  \n",
       "75%      0.750000    0.743590    0.724638    0.750000    0.645455  \n",
       "max      1.000000    1.000000    1.000000    1.000000    1.000000  "
      ]
     },
     "execution_count": 19,
     "metadata": {},
     "output_type": "execute_result"
    }
   ],
   "source": [
    "pd.DataFrame(X_train).describe()"
   ]
  },
  {
   "cell_type": "code",
   "execution_count": null,
   "id": "da4cd46c-4dc2-4e16-8bc9-a1003f871ce2",
   "metadata": {},
   "outputs": [],
   "source": []
  },
  {
   "cell_type": "code",
   "execution_count": 20,
   "id": "bb2c3e0b-0e71-42aa-a67a-d1a7305ec2cc",
   "metadata": {},
   "outputs": [
    {
     "data": {
      "text/html": [
       "<style>#sk-container-id-1 {color: black;}#sk-container-id-1 pre{padding: 0;}#sk-container-id-1 div.sk-toggleable {background-color: white;}#sk-container-id-1 label.sk-toggleable__label {cursor: pointer;display: block;width: 100%;margin-bottom: 0;padding: 0.3em;box-sizing: border-box;text-align: center;}#sk-container-id-1 label.sk-toggleable__label-arrow:before {content: \"▸\";float: left;margin-right: 0.25em;color: #696969;}#sk-container-id-1 label.sk-toggleable__label-arrow:hover:before {color: black;}#sk-container-id-1 div.sk-estimator:hover label.sk-toggleable__label-arrow:before {color: black;}#sk-container-id-1 div.sk-toggleable__content {max-height: 0;max-width: 0;overflow: hidden;text-align: left;background-color: #f0f8ff;}#sk-container-id-1 div.sk-toggleable__content pre {margin: 0.2em;color: black;border-radius: 0.25em;background-color: #f0f8ff;}#sk-container-id-1 input.sk-toggleable__control:checked~div.sk-toggleable__content {max-height: 200px;max-width: 100%;overflow: auto;}#sk-container-id-1 input.sk-toggleable__control:checked~label.sk-toggleable__label-arrow:before {content: \"▾\";}#sk-container-id-1 div.sk-estimator input.sk-toggleable__control:checked~label.sk-toggleable__label {background-color: #d4ebff;}#sk-container-id-1 div.sk-label input.sk-toggleable__control:checked~label.sk-toggleable__label {background-color: #d4ebff;}#sk-container-id-1 input.sk-hidden--visually {border: 0;clip: rect(1px 1px 1px 1px);clip: rect(1px, 1px, 1px, 1px);height: 1px;margin: -1px;overflow: hidden;padding: 0;position: absolute;width: 1px;}#sk-container-id-1 div.sk-estimator {font-family: monospace;background-color: #f0f8ff;border: 1px dotted black;border-radius: 0.25em;box-sizing: border-box;margin-bottom: 0.5em;}#sk-container-id-1 div.sk-estimator:hover {background-color: #d4ebff;}#sk-container-id-1 div.sk-parallel-item::after {content: \"\";width: 100%;border-bottom: 1px solid gray;flex-grow: 1;}#sk-container-id-1 div.sk-label:hover label.sk-toggleable__label {background-color: #d4ebff;}#sk-container-id-1 div.sk-serial::before {content: \"\";position: absolute;border-left: 1px solid gray;box-sizing: border-box;top: 0;bottom: 0;left: 50%;z-index: 0;}#sk-container-id-1 div.sk-serial {display: flex;flex-direction: column;align-items: center;background-color: white;padding-right: 0.2em;padding-left: 0.2em;position: relative;}#sk-container-id-1 div.sk-item {position: relative;z-index: 1;}#sk-container-id-1 div.sk-parallel {display: flex;align-items: stretch;justify-content: center;background-color: white;position: relative;}#sk-container-id-1 div.sk-item::before, #sk-container-id-1 div.sk-parallel-item::before {content: \"\";position: absolute;border-left: 1px solid gray;box-sizing: border-box;top: 0;bottom: 0;left: 50%;z-index: -1;}#sk-container-id-1 div.sk-parallel-item {display: flex;flex-direction: column;z-index: 1;position: relative;background-color: white;}#sk-container-id-1 div.sk-parallel-item:first-child::after {align-self: flex-end;width: 50%;}#sk-container-id-1 div.sk-parallel-item:last-child::after {align-self: flex-start;width: 50%;}#sk-container-id-1 div.sk-parallel-item:only-child::after {width: 0;}#sk-container-id-1 div.sk-dashed-wrapped {border: 1px dashed gray;margin: 0 0.4em 0.5em 0.4em;box-sizing: border-box;padding-bottom: 0.4em;background-color: white;}#sk-container-id-1 div.sk-label label {font-family: monospace;font-weight: bold;display: inline-block;line-height: 1.2em;}#sk-container-id-1 div.sk-label-container {text-align: center;}#sk-container-id-1 div.sk-container {/* jupyter's `normalize.less` sets `[hidden] { display: none; }` but bootstrap.min.css set `[hidden] { display: none !important; }` so we also need the `!important` here to be able to override the default hidden behavior on the sphinx rendered scikit-learn.org. See: https://github.com/scikit-learn/scikit-learn/issues/21755 */display: inline-block !important;position: relative;}#sk-container-id-1 div.sk-text-repr-fallback {display: none;}</style><div id=\"sk-container-id-1\" class=\"sk-top-container\"><div class=\"sk-text-repr-fallback\"><pre>LogisticRegression()</pre><b>In a Jupyter environment, please rerun this cell to show the HTML representation or trust the notebook. <br />On GitHub, the HTML representation is unable to render, please try loading this page with nbviewer.org.</b></div><div class=\"sk-container\" hidden><div class=\"sk-item\"><div class=\"sk-estimator sk-toggleable\"><input class=\"sk-toggleable__control sk-hidden--visually\" id=\"sk-estimator-id-1\" type=\"checkbox\" checked><label for=\"sk-estimator-id-1\" class=\"sk-toggleable__label sk-toggleable__label-arrow\">LogisticRegression</label><div class=\"sk-toggleable__content\"><pre>LogisticRegression()</pre></div></div></div></div></div>"
      ],
      "text/plain": [
       "LogisticRegression()"
      ]
     },
     "execution_count": 20,
     "metadata": {},
     "output_type": "execute_result"
    }
   ],
   "source": [
    "#Logistic Regression\n",
    "\n",
    "from sklearn.linear_model import LogisticRegression\n",
    "lr = LogisticRegression()\n",
    "lr.fit(X_train,y_train)"
   ]
  },
  {
   "cell_type": "code",
   "execution_count": 21,
   "id": "c08fd15f-3b7f-4526-971c-d1d7b5dc9ce3",
   "metadata": {},
   "outputs": [
    {
     "data": {
      "text/html": [
       "<style>#sk-container-id-2 {color: black;}#sk-container-id-2 pre{padding: 0;}#sk-container-id-2 div.sk-toggleable {background-color: white;}#sk-container-id-2 label.sk-toggleable__label {cursor: pointer;display: block;width: 100%;margin-bottom: 0;padding: 0.3em;box-sizing: border-box;text-align: center;}#sk-container-id-2 label.sk-toggleable__label-arrow:before {content: \"▸\";float: left;margin-right: 0.25em;color: #696969;}#sk-container-id-2 label.sk-toggleable__label-arrow:hover:before {color: black;}#sk-container-id-2 div.sk-estimator:hover label.sk-toggleable__label-arrow:before {color: black;}#sk-container-id-2 div.sk-toggleable__content {max-height: 0;max-width: 0;overflow: hidden;text-align: left;background-color: #f0f8ff;}#sk-container-id-2 div.sk-toggleable__content pre {margin: 0.2em;color: black;border-radius: 0.25em;background-color: #f0f8ff;}#sk-container-id-2 input.sk-toggleable__control:checked~div.sk-toggleable__content {max-height: 200px;max-width: 100%;overflow: auto;}#sk-container-id-2 input.sk-toggleable__control:checked~label.sk-toggleable__label-arrow:before {content: \"▾\";}#sk-container-id-2 div.sk-estimator input.sk-toggleable__control:checked~label.sk-toggleable__label {background-color: #d4ebff;}#sk-container-id-2 div.sk-label input.sk-toggleable__control:checked~label.sk-toggleable__label {background-color: #d4ebff;}#sk-container-id-2 input.sk-hidden--visually {border: 0;clip: rect(1px 1px 1px 1px);clip: rect(1px, 1px, 1px, 1px);height: 1px;margin: -1px;overflow: hidden;padding: 0;position: absolute;width: 1px;}#sk-container-id-2 div.sk-estimator {font-family: monospace;background-color: #f0f8ff;border: 1px dotted black;border-radius: 0.25em;box-sizing: border-box;margin-bottom: 0.5em;}#sk-container-id-2 div.sk-estimator:hover {background-color: #d4ebff;}#sk-container-id-2 div.sk-parallel-item::after {content: \"\";width: 100%;border-bottom: 1px solid gray;flex-grow: 1;}#sk-container-id-2 div.sk-label:hover label.sk-toggleable__label {background-color: #d4ebff;}#sk-container-id-2 div.sk-serial::before {content: \"\";position: absolute;border-left: 1px solid gray;box-sizing: border-box;top: 0;bottom: 0;left: 50%;z-index: 0;}#sk-container-id-2 div.sk-serial {display: flex;flex-direction: column;align-items: center;background-color: white;padding-right: 0.2em;padding-left: 0.2em;position: relative;}#sk-container-id-2 div.sk-item {position: relative;z-index: 1;}#sk-container-id-2 div.sk-parallel {display: flex;align-items: stretch;justify-content: center;background-color: white;position: relative;}#sk-container-id-2 div.sk-item::before, #sk-container-id-2 div.sk-parallel-item::before {content: \"\";position: absolute;border-left: 1px solid gray;box-sizing: border-box;top: 0;bottom: 0;left: 50%;z-index: -1;}#sk-container-id-2 div.sk-parallel-item {display: flex;flex-direction: column;z-index: 1;position: relative;background-color: white;}#sk-container-id-2 div.sk-parallel-item:first-child::after {align-self: flex-end;width: 50%;}#sk-container-id-2 div.sk-parallel-item:last-child::after {align-self: flex-start;width: 50%;}#sk-container-id-2 div.sk-parallel-item:only-child::after {width: 0;}#sk-container-id-2 div.sk-dashed-wrapped {border: 1px dashed gray;margin: 0 0.4em 0.5em 0.4em;box-sizing: border-box;padding-bottom: 0.4em;background-color: white;}#sk-container-id-2 div.sk-label label {font-family: monospace;font-weight: bold;display: inline-block;line-height: 1.2em;}#sk-container-id-2 div.sk-label-container {text-align: center;}#sk-container-id-2 div.sk-container {/* jupyter's `normalize.less` sets `[hidden] { display: none; }` but bootstrap.min.css set `[hidden] { display: none !important; }` so we also need the `!important` here to be able to override the default hidden behavior on the sphinx rendered scikit-learn.org. See: https://github.com/scikit-learn/scikit-learn/issues/21755 */display: inline-block !important;position: relative;}#sk-container-id-2 div.sk-text-repr-fallback {display: none;}</style><div id=\"sk-container-id-2\" class=\"sk-top-container\"><div class=\"sk-text-repr-fallback\"><pre>SVC()</pre><b>In a Jupyter environment, please rerun this cell to show the HTML representation or trust the notebook. <br />On GitHub, the HTML representation is unable to render, please try loading this page with nbviewer.org.</b></div><div class=\"sk-container\" hidden><div class=\"sk-item\"><div class=\"sk-estimator sk-toggleable\"><input class=\"sk-toggleable__control sk-hidden--visually\" id=\"sk-estimator-id-2\" type=\"checkbox\" checked><label for=\"sk-estimator-id-2\" class=\"sk-toggleable__label sk-toggleable__label-arrow\">SVC</label><div class=\"sk-toggleable__content\"><pre>SVC()</pre></div></div></div></div></div>"
      ],
      "text/plain": [
       "SVC()"
      ]
     },
     "execution_count": 21,
     "metadata": {},
     "output_type": "execute_result"
    }
   ],
   "source": [
    "#Support Vector Machine\n",
    "\n",
    "from sklearn import svm\n",
    "svm = svm.SVC()\n",
    "svm.fit(X_train,y_train)"
   ]
  },
  {
   "cell_type": "code",
   "execution_count": 22,
   "id": "0d0ab928-1e58-4125-90eb-79114501a911",
   "metadata": {},
   "outputs": [
    {
     "data": {
      "text/html": [
       "<style>#sk-container-id-3 {color: black;}#sk-container-id-3 pre{padding: 0;}#sk-container-id-3 div.sk-toggleable {background-color: white;}#sk-container-id-3 label.sk-toggleable__label {cursor: pointer;display: block;width: 100%;margin-bottom: 0;padding: 0.3em;box-sizing: border-box;text-align: center;}#sk-container-id-3 label.sk-toggleable__label-arrow:before {content: \"▸\";float: left;margin-right: 0.25em;color: #696969;}#sk-container-id-3 label.sk-toggleable__label-arrow:hover:before {color: black;}#sk-container-id-3 div.sk-estimator:hover label.sk-toggleable__label-arrow:before {color: black;}#sk-container-id-3 div.sk-toggleable__content {max-height: 0;max-width: 0;overflow: hidden;text-align: left;background-color: #f0f8ff;}#sk-container-id-3 div.sk-toggleable__content pre {margin: 0.2em;color: black;border-radius: 0.25em;background-color: #f0f8ff;}#sk-container-id-3 input.sk-toggleable__control:checked~div.sk-toggleable__content {max-height: 200px;max-width: 100%;overflow: auto;}#sk-container-id-3 input.sk-toggleable__control:checked~label.sk-toggleable__label-arrow:before {content: \"▾\";}#sk-container-id-3 div.sk-estimator input.sk-toggleable__control:checked~label.sk-toggleable__label {background-color: #d4ebff;}#sk-container-id-3 div.sk-label input.sk-toggleable__control:checked~label.sk-toggleable__label {background-color: #d4ebff;}#sk-container-id-3 input.sk-hidden--visually {border: 0;clip: rect(1px 1px 1px 1px);clip: rect(1px, 1px, 1px, 1px);height: 1px;margin: -1px;overflow: hidden;padding: 0;position: absolute;width: 1px;}#sk-container-id-3 div.sk-estimator {font-family: monospace;background-color: #f0f8ff;border: 1px dotted black;border-radius: 0.25em;box-sizing: border-box;margin-bottom: 0.5em;}#sk-container-id-3 div.sk-estimator:hover {background-color: #d4ebff;}#sk-container-id-3 div.sk-parallel-item::after {content: \"\";width: 100%;border-bottom: 1px solid gray;flex-grow: 1;}#sk-container-id-3 div.sk-label:hover label.sk-toggleable__label {background-color: #d4ebff;}#sk-container-id-3 div.sk-serial::before {content: \"\";position: absolute;border-left: 1px solid gray;box-sizing: border-box;top: 0;bottom: 0;left: 50%;z-index: 0;}#sk-container-id-3 div.sk-serial {display: flex;flex-direction: column;align-items: center;background-color: white;padding-right: 0.2em;padding-left: 0.2em;position: relative;}#sk-container-id-3 div.sk-item {position: relative;z-index: 1;}#sk-container-id-3 div.sk-parallel {display: flex;align-items: stretch;justify-content: center;background-color: white;position: relative;}#sk-container-id-3 div.sk-item::before, #sk-container-id-3 div.sk-parallel-item::before {content: \"\";position: absolute;border-left: 1px solid gray;box-sizing: border-box;top: 0;bottom: 0;left: 50%;z-index: -1;}#sk-container-id-3 div.sk-parallel-item {display: flex;flex-direction: column;z-index: 1;position: relative;background-color: white;}#sk-container-id-3 div.sk-parallel-item:first-child::after {align-self: flex-end;width: 50%;}#sk-container-id-3 div.sk-parallel-item:last-child::after {align-self: flex-start;width: 50%;}#sk-container-id-3 div.sk-parallel-item:only-child::after {width: 0;}#sk-container-id-3 div.sk-dashed-wrapped {border: 1px dashed gray;margin: 0 0.4em 0.5em 0.4em;box-sizing: border-box;padding-bottom: 0.4em;background-color: white;}#sk-container-id-3 div.sk-label label {font-family: monospace;font-weight: bold;display: inline-block;line-height: 1.2em;}#sk-container-id-3 div.sk-label-container {text-align: center;}#sk-container-id-3 div.sk-container {/* jupyter's `normalize.less` sets `[hidden] { display: none; }` but bootstrap.min.css set `[hidden] { display: none !important; }` so we also need the `!important` here to be able to override the default hidden behavior on the sphinx rendered scikit-learn.org. See: https://github.com/scikit-learn/scikit-learn/issues/21755 */display: inline-block !important;position: relative;}#sk-container-id-3 div.sk-text-repr-fallback {display: none;}</style><div id=\"sk-container-id-3\" class=\"sk-top-container\"><div class=\"sk-text-repr-fallback\"><pre>KNeighborsClassifier()</pre><b>In a Jupyter environment, please rerun this cell to show the HTML representation or trust the notebook. <br />On GitHub, the HTML representation is unable to render, please try loading this page with nbviewer.org.</b></div><div class=\"sk-container\" hidden><div class=\"sk-item\"><div class=\"sk-estimator sk-toggleable\"><input class=\"sk-toggleable__control sk-hidden--visually\" id=\"sk-estimator-id-3\" type=\"checkbox\" checked><label for=\"sk-estimator-id-3\" class=\"sk-toggleable__label sk-toggleable__label-arrow\">KNeighborsClassifier</label><div class=\"sk-toggleable__content\"><pre>KNeighborsClassifier()</pre></div></div></div></div></div>"
      ],
      "text/plain": [
       "KNeighborsClassifier()"
      ]
     },
     "execution_count": 22,
     "metadata": {},
     "output_type": "execute_result"
    }
   ],
   "source": [
    "#KNearest Neighbors\n",
    "from sklearn.neighbors import KNeighborsClassifier\n",
    "knn=KNeighborsClassifier()\n",
    "knn.fit(X_train,y_train)"
   ]
  },
  {
   "cell_type": "code",
   "execution_count": 23,
   "id": "7d66ddc8-5478-4df0-bf45-f11a1a6f6f4e",
   "metadata": {},
   "outputs": [
    {
     "data": {
      "text/html": [
       "<style>#sk-container-id-4 {color: black;}#sk-container-id-4 pre{padding: 0;}#sk-container-id-4 div.sk-toggleable {background-color: white;}#sk-container-id-4 label.sk-toggleable__label {cursor: pointer;display: block;width: 100%;margin-bottom: 0;padding: 0.3em;box-sizing: border-box;text-align: center;}#sk-container-id-4 label.sk-toggleable__label-arrow:before {content: \"▸\";float: left;margin-right: 0.25em;color: #696969;}#sk-container-id-4 label.sk-toggleable__label-arrow:hover:before {color: black;}#sk-container-id-4 div.sk-estimator:hover label.sk-toggleable__label-arrow:before {color: black;}#sk-container-id-4 div.sk-toggleable__content {max-height: 0;max-width: 0;overflow: hidden;text-align: left;background-color: #f0f8ff;}#sk-container-id-4 div.sk-toggleable__content pre {margin: 0.2em;color: black;border-radius: 0.25em;background-color: #f0f8ff;}#sk-container-id-4 input.sk-toggleable__control:checked~div.sk-toggleable__content {max-height: 200px;max-width: 100%;overflow: auto;}#sk-container-id-4 input.sk-toggleable__control:checked~label.sk-toggleable__label-arrow:before {content: \"▾\";}#sk-container-id-4 div.sk-estimator input.sk-toggleable__control:checked~label.sk-toggleable__label {background-color: #d4ebff;}#sk-container-id-4 div.sk-label input.sk-toggleable__control:checked~label.sk-toggleable__label {background-color: #d4ebff;}#sk-container-id-4 input.sk-hidden--visually {border: 0;clip: rect(1px 1px 1px 1px);clip: rect(1px, 1px, 1px, 1px);height: 1px;margin: -1px;overflow: hidden;padding: 0;position: absolute;width: 1px;}#sk-container-id-4 div.sk-estimator {font-family: monospace;background-color: #f0f8ff;border: 1px dotted black;border-radius: 0.25em;box-sizing: border-box;margin-bottom: 0.5em;}#sk-container-id-4 div.sk-estimator:hover {background-color: #d4ebff;}#sk-container-id-4 div.sk-parallel-item::after {content: \"\";width: 100%;border-bottom: 1px solid gray;flex-grow: 1;}#sk-container-id-4 div.sk-label:hover label.sk-toggleable__label {background-color: #d4ebff;}#sk-container-id-4 div.sk-serial::before {content: \"\";position: absolute;border-left: 1px solid gray;box-sizing: border-box;top: 0;bottom: 0;left: 50%;z-index: 0;}#sk-container-id-4 div.sk-serial {display: flex;flex-direction: column;align-items: center;background-color: white;padding-right: 0.2em;padding-left: 0.2em;position: relative;}#sk-container-id-4 div.sk-item {position: relative;z-index: 1;}#sk-container-id-4 div.sk-parallel {display: flex;align-items: stretch;justify-content: center;background-color: white;position: relative;}#sk-container-id-4 div.sk-item::before, #sk-container-id-4 div.sk-parallel-item::before {content: \"\";position: absolute;border-left: 1px solid gray;box-sizing: border-box;top: 0;bottom: 0;left: 50%;z-index: -1;}#sk-container-id-4 div.sk-parallel-item {display: flex;flex-direction: column;z-index: 1;position: relative;background-color: white;}#sk-container-id-4 div.sk-parallel-item:first-child::after {align-self: flex-end;width: 50%;}#sk-container-id-4 div.sk-parallel-item:last-child::after {align-self: flex-start;width: 50%;}#sk-container-id-4 div.sk-parallel-item:only-child::after {width: 0;}#sk-container-id-4 div.sk-dashed-wrapped {border: 1px dashed gray;margin: 0 0.4em 0.5em 0.4em;box-sizing: border-box;padding-bottom: 0.4em;background-color: white;}#sk-container-id-4 div.sk-label label {font-family: monospace;font-weight: bold;display: inline-block;line-height: 1.2em;}#sk-container-id-4 div.sk-label-container {text-align: center;}#sk-container-id-4 div.sk-container {/* jupyter's `normalize.less` sets `[hidden] { display: none; }` but bootstrap.min.css set `[hidden] { display: none !important; }` so we also need the `!important` here to be able to override the default hidden behavior on the sphinx rendered scikit-learn.org. See: https://github.com/scikit-learn/scikit-learn/issues/21755 */display: inline-block !important;position: relative;}#sk-container-id-4 div.sk-text-repr-fallback {display: none;}</style><div id=\"sk-container-id-4\" class=\"sk-top-container\"><div class=\"sk-text-repr-fallback\"><pre>DecisionTreeClassifier()</pre><b>In a Jupyter environment, please rerun this cell to show the HTML representation or trust the notebook. <br />On GitHub, the HTML representation is unable to render, please try loading this page with nbviewer.org.</b></div><div class=\"sk-container\" hidden><div class=\"sk-item\"><div class=\"sk-estimator sk-toggleable\"><input class=\"sk-toggleable__control sk-hidden--visually\" id=\"sk-estimator-id-4\" type=\"checkbox\" checked><label for=\"sk-estimator-id-4\" class=\"sk-toggleable__label sk-toggleable__label-arrow\">DecisionTreeClassifier</label><div class=\"sk-toggleable__content\"><pre>DecisionTreeClassifier()</pre></div></div></div></div></div>"
      ],
      "text/plain": [
       "DecisionTreeClassifier()"
      ]
     },
     "execution_count": 23,
     "metadata": {},
     "output_type": "execute_result"
    }
   ],
   "source": [
    "#Decision Tree\n",
    "from sklearn.tree import DecisionTreeClassifier\n",
    "dt=DecisionTreeClassifier()\n",
    "dt.fit(X_train,y_train)"
   ]
  },
  {
   "cell_type": "code",
   "execution_count": 24,
   "id": "de3634b4-f9aa-41bc-b130-23619eec4658",
   "metadata": {},
   "outputs": [
    {
     "data": {
      "text/html": [
       "<style>#sk-container-id-5 {color: black;}#sk-container-id-5 pre{padding: 0;}#sk-container-id-5 div.sk-toggleable {background-color: white;}#sk-container-id-5 label.sk-toggleable__label {cursor: pointer;display: block;width: 100%;margin-bottom: 0;padding: 0.3em;box-sizing: border-box;text-align: center;}#sk-container-id-5 label.sk-toggleable__label-arrow:before {content: \"▸\";float: left;margin-right: 0.25em;color: #696969;}#sk-container-id-5 label.sk-toggleable__label-arrow:hover:before {color: black;}#sk-container-id-5 div.sk-estimator:hover label.sk-toggleable__label-arrow:before {color: black;}#sk-container-id-5 div.sk-toggleable__content {max-height: 0;max-width: 0;overflow: hidden;text-align: left;background-color: #f0f8ff;}#sk-container-id-5 div.sk-toggleable__content pre {margin: 0.2em;color: black;border-radius: 0.25em;background-color: #f0f8ff;}#sk-container-id-5 input.sk-toggleable__control:checked~div.sk-toggleable__content {max-height: 200px;max-width: 100%;overflow: auto;}#sk-container-id-5 input.sk-toggleable__control:checked~label.sk-toggleable__label-arrow:before {content: \"▾\";}#sk-container-id-5 div.sk-estimator input.sk-toggleable__control:checked~label.sk-toggleable__label {background-color: #d4ebff;}#sk-container-id-5 div.sk-label input.sk-toggleable__control:checked~label.sk-toggleable__label {background-color: #d4ebff;}#sk-container-id-5 input.sk-hidden--visually {border: 0;clip: rect(1px 1px 1px 1px);clip: rect(1px, 1px, 1px, 1px);height: 1px;margin: -1px;overflow: hidden;padding: 0;position: absolute;width: 1px;}#sk-container-id-5 div.sk-estimator {font-family: monospace;background-color: #f0f8ff;border: 1px dotted black;border-radius: 0.25em;box-sizing: border-box;margin-bottom: 0.5em;}#sk-container-id-5 div.sk-estimator:hover {background-color: #d4ebff;}#sk-container-id-5 div.sk-parallel-item::after {content: \"\";width: 100%;border-bottom: 1px solid gray;flex-grow: 1;}#sk-container-id-5 div.sk-label:hover label.sk-toggleable__label {background-color: #d4ebff;}#sk-container-id-5 div.sk-serial::before {content: \"\";position: absolute;border-left: 1px solid gray;box-sizing: border-box;top: 0;bottom: 0;left: 50%;z-index: 0;}#sk-container-id-5 div.sk-serial {display: flex;flex-direction: column;align-items: center;background-color: white;padding-right: 0.2em;padding-left: 0.2em;position: relative;}#sk-container-id-5 div.sk-item {position: relative;z-index: 1;}#sk-container-id-5 div.sk-parallel {display: flex;align-items: stretch;justify-content: center;background-color: white;position: relative;}#sk-container-id-5 div.sk-item::before, #sk-container-id-5 div.sk-parallel-item::before {content: \"\";position: absolute;border-left: 1px solid gray;box-sizing: border-box;top: 0;bottom: 0;left: 50%;z-index: -1;}#sk-container-id-5 div.sk-parallel-item {display: flex;flex-direction: column;z-index: 1;position: relative;background-color: white;}#sk-container-id-5 div.sk-parallel-item:first-child::after {align-self: flex-end;width: 50%;}#sk-container-id-5 div.sk-parallel-item:last-child::after {align-self: flex-start;width: 50%;}#sk-container-id-5 div.sk-parallel-item:only-child::after {width: 0;}#sk-container-id-5 div.sk-dashed-wrapped {border: 1px dashed gray;margin: 0 0.4em 0.5em 0.4em;box-sizing: border-box;padding-bottom: 0.4em;background-color: white;}#sk-container-id-5 div.sk-label label {font-family: monospace;font-weight: bold;display: inline-block;line-height: 1.2em;}#sk-container-id-5 div.sk-label-container {text-align: center;}#sk-container-id-5 div.sk-container {/* jupyter's `normalize.less` sets `[hidden] { display: none; }` but bootstrap.min.css set `[hidden] { display: none !important; }` so we also need the `!important` here to be able to override the default hidden behavior on the sphinx rendered scikit-learn.org. See: https://github.com/scikit-learn/scikit-learn/issues/21755 */display: inline-block !important;position: relative;}#sk-container-id-5 div.sk-text-repr-fallback {display: none;}</style><div id=\"sk-container-id-5\" class=\"sk-top-container\"><div class=\"sk-text-repr-fallback\"><pre>RandomForestClassifier()</pre><b>In a Jupyter environment, please rerun this cell to show the HTML representation or trust the notebook. <br />On GitHub, the HTML representation is unable to render, please try loading this page with nbviewer.org.</b></div><div class=\"sk-container\" hidden><div class=\"sk-item\"><div class=\"sk-estimator sk-toggleable\"><input class=\"sk-toggleable__control sk-hidden--visually\" id=\"sk-estimator-id-5\" type=\"checkbox\" checked><label for=\"sk-estimator-id-5\" class=\"sk-toggleable__label sk-toggleable__label-arrow\">RandomForestClassifier</label><div class=\"sk-toggleable__content\"><pre>RandomForestClassifier()</pre></div></div></div></div></div>"
      ],
      "text/plain": [
       "RandomForestClassifier()"
      ]
     },
     "execution_count": 24,
     "metadata": {},
     "output_type": "execute_result"
    }
   ],
   "source": [
    "#Random Forest\n",
    "from sklearn.ensemble import RandomForestClassifier\n",
    "rf=RandomForestClassifier()\n",
    "rf.fit(X_train,y_train)"
   ]
  },
  {
   "cell_type": "code",
   "execution_count": 25,
   "id": "a3c67d2f-b960-41b0-9eeb-25e7d96c186b",
   "metadata": {},
   "outputs": [
    {
     "data": {
      "text/html": [
       "<style>#sk-container-id-6 {color: black;}#sk-container-id-6 pre{padding: 0;}#sk-container-id-6 div.sk-toggleable {background-color: white;}#sk-container-id-6 label.sk-toggleable__label {cursor: pointer;display: block;width: 100%;margin-bottom: 0;padding: 0.3em;box-sizing: border-box;text-align: center;}#sk-container-id-6 label.sk-toggleable__label-arrow:before {content: \"▸\";float: left;margin-right: 0.25em;color: #696969;}#sk-container-id-6 label.sk-toggleable__label-arrow:hover:before {color: black;}#sk-container-id-6 div.sk-estimator:hover label.sk-toggleable__label-arrow:before {color: black;}#sk-container-id-6 div.sk-toggleable__content {max-height: 0;max-width: 0;overflow: hidden;text-align: left;background-color: #f0f8ff;}#sk-container-id-6 div.sk-toggleable__content pre {margin: 0.2em;color: black;border-radius: 0.25em;background-color: #f0f8ff;}#sk-container-id-6 input.sk-toggleable__control:checked~div.sk-toggleable__content {max-height: 200px;max-width: 100%;overflow: auto;}#sk-container-id-6 input.sk-toggleable__control:checked~label.sk-toggleable__label-arrow:before {content: \"▾\";}#sk-container-id-6 div.sk-estimator input.sk-toggleable__control:checked~label.sk-toggleable__label {background-color: #d4ebff;}#sk-container-id-6 div.sk-label input.sk-toggleable__control:checked~label.sk-toggleable__label {background-color: #d4ebff;}#sk-container-id-6 input.sk-hidden--visually {border: 0;clip: rect(1px 1px 1px 1px);clip: rect(1px, 1px, 1px, 1px);height: 1px;margin: -1px;overflow: hidden;padding: 0;position: absolute;width: 1px;}#sk-container-id-6 div.sk-estimator {font-family: monospace;background-color: #f0f8ff;border: 1px dotted black;border-radius: 0.25em;box-sizing: border-box;margin-bottom: 0.5em;}#sk-container-id-6 div.sk-estimator:hover {background-color: #d4ebff;}#sk-container-id-6 div.sk-parallel-item::after {content: \"\";width: 100%;border-bottom: 1px solid gray;flex-grow: 1;}#sk-container-id-6 div.sk-label:hover label.sk-toggleable__label {background-color: #d4ebff;}#sk-container-id-6 div.sk-serial::before {content: \"\";position: absolute;border-left: 1px solid gray;box-sizing: border-box;top: 0;bottom: 0;left: 50%;z-index: 0;}#sk-container-id-6 div.sk-serial {display: flex;flex-direction: column;align-items: center;background-color: white;padding-right: 0.2em;padding-left: 0.2em;position: relative;}#sk-container-id-6 div.sk-item {position: relative;z-index: 1;}#sk-container-id-6 div.sk-parallel {display: flex;align-items: stretch;justify-content: center;background-color: white;position: relative;}#sk-container-id-6 div.sk-item::before, #sk-container-id-6 div.sk-parallel-item::before {content: \"\";position: absolute;border-left: 1px solid gray;box-sizing: border-box;top: 0;bottom: 0;left: 50%;z-index: -1;}#sk-container-id-6 div.sk-parallel-item {display: flex;flex-direction: column;z-index: 1;position: relative;background-color: white;}#sk-container-id-6 div.sk-parallel-item:first-child::after {align-self: flex-end;width: 50%;}#sk-container-id-6 div.sk-parallel-item:last-child::after {align-self: flex-start;width: 50%;}#sk-container-id-6 div.sk-parallel-item:only-child::after {width: 0;}#sk-container-id-6 div.sk-dashed-wrapped {border: 1px dashed gray;margin: 0 0.4em 0.5em 0.4em;box-sizing: border-box;padding-bottom: 0.4em;background-color: white;}#sk-container-id-6 div.sk-label label {font-family: monospace;font-weight: bold;display: inline-block;line-height: 1.2em;}#sk-container-id-6 div.sk-label-container {text-align: center;}#sk-container-id-6 div.sk-container {/* jupyter's `normalize.less` sets `[hidden] { display: none; }` but bootstrap.min.css set `[hidden] { display: none !important; }` so we also need the `!important` here to be able to override the default hidden behavior on the sphinx rendered scikit-learn.org. See: https://github.com/scikit-learn/scikit-learn/issues/21755 */display: inline-block !important;position: relative;}#sk-container-id-6 div.sk-text-repr-fallback {display: none;}</style><div id=\"sk-container-id-6\" class=\"sk-top-container\"><div class=\"sk-text-repr-fallback\"><pre>GradientBoostingClassifier()</pre><b>In a Jupyter environment, please rerun this cell to show the HTML representation or trust the notebook. <br />On GitHub, the HTML representation is unable to render, please try loading this page with nbviewer.org.</b></div><div class=\"sk-container\" hidden><div class=\"sk-item\"><div class=\"sk-estimator sk-toggleable\"><input class=\"sk-toggleable__control sk-hidden--visually\" id=\"sk-estimator-id-6\" type=\"checkbox\" checked><label for=\"sk-estimator-id-6\" class=\"sk-toggleable__label sk-toggleable__label-arrow\">GradientBoostingClassifier</label><div class=\"sk-toggleable__content\"><pre>GradientBoostingClassifier()</pre></div></div></div></div></div>"
      ],
      "text/plain": [
       "GradientBoostingClassifier()"
      ]
     },
     "execution_count": 25,
     "metadata": {},
     "output_type": "execute_result"
    }
   ],
   "source": [
    "#Gradient Boosting\n",
    "from sklearn.ensemble import GradientBoostingClassifier\n",
    "gb=GradientBoostingClassifier()\n",
    "gb.fit(X_train,y_train)\n"
   ]
  },
  {
   "cell_type": "code",
   "execution_count": 26,
   "id": "c74bbbff-3a99-4db6-b29a-2a5584aac0f8",
   "metadata": {},
   "outputs": [
    {
     "name": "stdout",
     "output_type": "stream",
     "text": [
      "WARNING:tensorflow:From C:\\Users\\soumy\\AppData\\Local\\Packages\\PythonSoftwareFoundation.Python.3.10_qbz5n2kfra8p0\\LocalCache\\local-packages\\Python310\\site-packages\\keras\\src\\losses.py:2976: The name tf.losses.sparse_softmax_cross_entropy is deprecated. Please use tf.compat.v1.losses.sparse_softmax_cross_entropy instead.\n",
      "\n"
     ]
    }
   ],
   "source": [
    "import numpy as np\n",
    "from tensorflow import keras\n",
    "from sklearn.model_selection import train_test_split\n",
    "from sklearn.preprocessing import StandardScaler\n",
    "X_train, X_test, y_train, y_test = train_test_split(X, y, test_size=0.3, random_state=42)\n",
    "scaler = StandardScaler()\n",
    "X_train = scaler.fit_transform(X_train)\n",
    "X_test = scaler.transform(X_test)"
   ]
  },
  {
   "cell_type": "code",
   "execution_count": 27,
   "id": "e9fc70be-7407-4db9-8589-13625c529c6f",
   "metadata": {},
   "outputs": [
    {
     "data": {
      "text/plain": [
       "array([[-0.18584588,  0.17746336, -0.44563751, ..., -0.5593182 ,\n",
       "        -0.40024115, -0.88826831],\n",
       "       [-0.65248065, -1.45298128, -0.92222207, ..., -2.28911487,\n",
       "        -0.94695688,  1.15154371],\n",
       "       [ 0.51410627, -0.28837796, -0.44563751, ..., -0.42625692,\n",
       "         0.38945936,  0.0938634 ],\n",
       "       ...,\n",
       "       [ 0.98074104,  0.87622535,  0.03094705, ...,  0.97088654,\n",
       "        -0.88621069,  0.169412  ],\n",
       "       [ 0.28078889,  0.64330469,  0.50753161, ..., -0.69237948,\n",
       "         0.32871316, -0.13278238],\n",
       "       [-0.18584588, -0.52129863,  0.98411617, ...,  0.97088654,\n",
       "         0.93617509,  0.92489793]])"
      ]
     },
     "execution_count": 27,
     "metadata": {},
     "output_type": "execute_result"
    }
   ],
   "source": [
    "X_train"
   ]
  },
  {
   "cell_type": "code",
   "execution_count": 28,
   "id": "75b8f554-74da-4035-8454-db2d1343ca53",
   "metadata": {},
   "outputs": [
    {
     "name": "stdout",
     "output_type": "stream",
     "text": [
      "WARNING:tensorflow:From C:\\Users\\soumy\\AppData\\Local\\Packages\\PythonSoftwareFoundation.Python.3.10_qbz5n2kfra8p0\\LocalCache\\local-packages\\Python310\\site-packages\\keras\\src\\backend.py:873: The name tf.get_default_graph is deprecated. Please use tf.compat.v1.get_default_graph instead.\n",
      "\n",
      "WARNING:tensorflow:From C:\\Users\\soumy\\AppData\\Local\\Packages\\PythonSoftwareFoundation.Python.3.10_qbz5n2kfra8p0\\LocalCache\\local-packages\\Python310\\site-packages\\keras\\src\\optimizers\\__init__.py:309: The name tf.train.Optimizer is deprecated. Please use tf.compat.v1.train.Optimizer instead.\n",
      "\n",
      "Epoch 1/200\n",
      "WARNING:tensorflow:From C:\\Users\\soumy\\AppData\\Local\\Packages\\PythonSoftwareFoundation.Python.3.10_qbz5n2kfra8p0\\LocalCache\\local-packages\\Python310\\site-packages\\keras\\src\\utils\\tf_utils.py:492: The name tf.ragged.RaggedTensorValue is deprecated. Please use tf.compat.v1.ragged.RaggedTensorValue instead.\n",
      "\n",
      "WARNING:tensorflow:From C:\\Users\\soumy\\AppData\\Local\\Packages\\PythonSoftwareFoundation.Python.3.10_qbz5n2kfra8p0\\LocalCache\\local-packages\\Python310\\site-packages\\keras\\src\\engine\\base_layer_utils.py:384: The name tf.executing_eagerly_outside_functions is deprecated. Please use tf.compat.v1.executing_eagerly_outside_functions instead.\n",
      "\n",
      "7/7 [==============================] - 2s 72ms/step - loss: 0.6236 - accuracy: 0.6667 - val_loss: 0.6245 - val_accuracy: 0.6250\n",
      "Epoch 2/200\n",
      "7/7 [==============================] - 0s 18ms/step - loss: 0.5945 - accuracy: 0.7101 - val_loss: 0.6033 - val_accuracy: 0.6667\n",
      "Epoch 3/200\n",
      "7/7 [==============================] - 0s 16ms/step - loss: 0.5725 - accuracy: 0.7295 - val_loss: 0.5869 - val_accuracy: 0.7083\n",
      "Epoch 4/200\n",
      "7/7 [==============================] - 0s 17ms/step - loss: 0.5528 - accuracy: 0.7391 - val_loss: 0.5754 - val_accuracy: 0.7500\n",
      "Epoch 5/200\n",
      "7/7 [==============================] - 0s 16ms/step - loss: 0.5347 - accuracy: 0.7391 - val_loss: 0.5626 - val_accuracy: 0.7917\n",
      "Epoch 6/200\n",
      "7/7 [==============================] - 0s 18ms/step - loss: 0.5213 - accuracy: 0.7440 - val_loss: 0.5526 - val_accuracy: 0.7917\n",
      "Epoch 7/200\n",
      "7/7 [==============================] - 0s 16ms/step - loss: 0.5091 - accuracy: 0.7391 - val_loss: 0.5447 - val_accuracy: 0.7917\n",
      "Epoch 8/200\n",
      "7/7 [==============================] - 0s 19ms/step - loss: 0.4984 - accuracy: 0.7440 - val_loss: 0.5380 - val_accuracy: 0.7917\n",
      "Epoch 9/200\n",
      "7/7 [==============================] - 0s 20ms/step - loss: 0.4899 - accuracy: 0.7488 - val_loss: 0.5312 - val_accuracy: 0.7917\n",
      "Epoch 10/200\n",
      "7/7 [==============================] - 0s 23ms/step - loss: 0.4821 - accuracy: 0.7585 - val_loss: 0.5255 - val_accuracy: 0.7917\n",
      "Epoch 11/200\n",
      "7/7 [==============================] - 0s 23ms/step - loss: 0.4753 - accuracy: 0.7633 - val_loss: 0.5214 - val_accuracy: 0.8333\n",
      "Epoch 12/200\n",
      "7/7 [==============================] - 0s 18ms/step - loss: 0.4692 - accuracy: 0.7633 - val_loss: 0.5180 - val_accuracy: 0.7917\n",
      "Epoch 13/200\n",
      "7/7 [==============================] - 0s 17ms/step - loss: 0.4630 - accuracy: 0.7585 - val_loss: 0.5135 - val_accuracy: 0.7917\n",
      "Epoch 14/200\n",
      "7/7 [==============================] - 0s 16ms/step - loss: 0.4577 - accuracy: 0.7633 - val_loss: 0.5088 - val_accuracy: 0.7500\n",
      "Epoch 15/200\n",
      "7/7 [==============================] - 0s 15ms/step - loss: 0.4536 - accuracy: 0.7585 - val_loss: 0.5050 - val_accuracy: 0.7500\n",
      "Epoch 16/200\n",
      "7/7 [==============================] - 0s 18ms/step - loss: 0.4496 - accuracy: 0.7681 - val_loss: 0.5032 - val_accuracy: 0.7500\n",
      "Epoch 17/200\n",
      "7/7 [==============================] - 0s 15ms/step - loss: 0.4455 - accuracy: 0.7729 - val_loss: 0.5048 - val_accuracy: 0.7500\n",
      "Epoch 18/200\n",
      "7/7 [==============================] - 0s 21ms/step - loss: 0.4418 - accuracy: 0.7778 - val_loss: 0.5022 - val_accuracy: 0.7083\n",
      "Epoch 19/200\n",
      "7/7 [==============================] - 0s 15ms/step - loss: 0.4389 - accuracy: 0.7826 - val_loss: 0.5021 - val_accuracy: 0.7083\n",
      "Epoch 20/200\n",
      "7/7 [==============================] - 0s 16ms/step - loss: 0.4355 - accuracy: 0.7729 - val_loss: 0.4952 - val_accuracy: 0.7083\n",
      "Epoch 21/200\n",
      "7/7 [==============================] - 0s 13ms/step - loss: 0.4320 - accuracy: 0.7681 - val_loss: 0.4965 - val_accuracy: 0.7083\n",
      "Epoch 22/200\n",
      "7/7 [==============================] - 0s 17ms/step - loss: 0.4286 - accuracy: 0.7778 - val_loss: 0.5004 - val_accuracy: 0.7083\n",
      "Epoch 23/200\n",
      "7/7 [==============================] - 0s 15ms/step - loss: 0.4252 - accuracy: 0.7923 - val_loss: 0.5017 - val_accuracy: 0.7083\n",
      "Epoch 24/200\n",
      "7/7 [==============================] - 0s 14ms/step - loss: 0.4221 - accuracy: 0.8019 - val_loss: 0.5000 - val_accuracy: 0.7083\n",
      "Epoch 25/200\n",
      "7/7 [==============================] - 0s 18ms/step - loss: 0.4191 - accuracy: 0.7971 - val_loss: 0.4973 - val_accuracy: 0.7083\n",
      "Epoch 26/200\n",
      "7/7 [==============================] - 0s 15ms/step - loss: 0.4166 - accuracy: 0.7923 - val_loss: 0.4985 - val_accuracy: 0.7083\n",
      "Epoch 27/200\n",
      "7/7 [==============================] - 0s 16ms/step - loss: 0.4132 - accuracy: 0.8068 - val_loss: 0.4985 - val_accuracy: 0.7083\n",
      "Epoch 28/200\n",
      "7/7 [==============================] - 0s 14ms/step - loss: 0.4104 - accuracy: 0.8116 - val_loss: 0.4970 - val_accuracy: 0.7083\n",
      "Epoch 29/200\n",
      "7/7 [==============================] - 0s 12ms/step - loss: 0.4076 - accuracy: 0.8068 - val_loss: 0.4979 - val_accuracy: 0.7083\n",
      "Epoch 30/200\n",
      "7/7 [==============================] - 0s 16ms/step - loss: 0.4046 - accuracy: 0.8116 - val_loss: 0.4982 - val_accuracy: 0.7083\n",
      "Epoch 31/200\n",
      "7/7 [==============================] - 0s 15ms/step - loss: 0.4030 - accuracy: 0.8116 - val_loss: 0.5003 - val_accuracy: 0.7083\n",
      "Epoch 32/200\n",
      "7/7 [==============================] - 0s 14ms/step - loss: 0.3995 - accuracy: 0.8068 - val_loss: 0.5059 - val_accuracy: 0.7083\n",
      "Epoch 33/200\n",
      "7/7 [==============================] - 0s 16ms/step - loss: 0.3970 - accuracy: 0.8116 - val_loss: 0.5054 - val_accuracy: 0.7083\n",
      "Epoch 34/200\n",
      "7/7 [==============================] - 0s 14ms/step - loss: 0.3942 - accuracy: 0.8164 - val_loss: 0.5034 - val_accuracy: 0.7083\n",
      "Epoch 35/200\n",
      "7/7 [==============================] - 0s 15ms/step - loss: 0.3913 - accuracy: 0.8164 - val_loss: 0.5006 - val_accuracy: 0.7083\n",
      "Epoch 36/200\n",
      "7/7 [==============================] - 0s 15ms/step - loss: 0.3890 - accuracy: 0.8164 - val_loss: 0.4953 - val_accuracy: 0.7083\n",
      "Epoch 37/200\n",
      "7/7 [==============================] - 0s 14ms/step - loss: 0.3860 - accuracy: 0.8261 - val_loss: 0.4984 - val_accuracy: 0.7083\n",
      "Epoch 38/200\n",
      "7/7 [==============================] - 0s 13ms/step - loss: 0.3828 - accuracy: 0.8309 - val_loss: 0.5003 - val_accuracy: 0.7083\n",
      "Epoch 39/200\n",
      "7/7 [==============================] - 0s 17ms/step - loss: 0.3805 - accuracy: 0.8357 - val_loss: 0.4956 - val_accuracy: 0.7083\n",
      "Epoch 40/200\n",
      "7/7 [==============================] - 0s 14ms/step - loss: 0.3784 - accuracy: 0.8357 - val_loss: 0.4993 - val_accuracy: 0.7083\n",
      "Epoch 41/200\n",
      "7/7 [==============================] - 0s 12ms/step - loss: 0.3742 - accuracy: 0.8502 - val_loss: 0.4989 - val_accuracy: 0.7083\n",
      "Epoch 42/200\n",
      "7/7 [==============================] - 0s 12ms/step - loss: 0.3737 - accuracy: 0.8357 - val_loss: 0.4986 - val_accuracy: 0.7083\n",
      "Epoch 43/200\n",
      "7/7 [==============================] - 0s 16ms/step - loss: 0.3708 - accuracy: 0.8502 - val_loss: 0.5039 - val_accuracy: 0.7083\n",
      "Epoch 44/200\n",
      "7/7 [==============================] - 0s 15ms/step - loss: 0.3665 - accuracy: 0.8647 - val_loss: 0.5054 - val_accuracy: 0.7083\n",
      "Epoch 45/200\n",
      "7/7 [==============================] - 0s 14ms/step - loss: 0.3633 - accuracy: 0.8647 - val_loss: 0.4973 - val_accuracy: 0.7083\n",
      "Epoch 46/200\n",
      "7/7 [==============================] - 0s 14ms/step - loss: 0.3617 - accuracy: 0.8647 - val_loss: 0.4981 - val_accuracy: 0.6667\n",
      "Epoch 47/200\n",
      "7/7 [==============================] - 0s 13ms/step - loss: 0.3594 - accuracy: 0.8696 - val_loss: 0.5031 - val_accuracy: 0.7083\n",
      "Epoch 48/200\n",
      "7/7 [==============================] - 0s 14ms/step - loss: 0.3555 - accuracy: 0.8696 - val_loss: 0.5050 - val_accuracy: 0.7083\n",
      "Epoch 49/200\n",
      "7/7 [==============================] - 0s 17ms/step - loss: 0.3531 - accuracy: 0.8696 - val_loss: 0.5037 - val_accuracy: 0.6667\n",
      "Epoch 50/200\n",
      "7/7 [==============================] - 0s 15ms/step - loss: 0.3500 - accuracy: 0.8792 - val_loss: 0.5084 - val_accuracy: 0.6667\n",
      "Epoch 51/200\n",
      "7/7 [==============================] - 0s 14ms/step - loss: 0.3470 - accuracy: 0.8647 - val_loss: 0.5096 - val_accuracy: 0.7083\n",
      "Epoch 52/200\n",
      "7/7 [==============================] - 0s 14ms/step - loss: 0.3451 - accuracy: 0.8599 - val_loss: 0.5073 - val_accuracy: 0.7083\n",
      "Epoch 53/200\n",
      "7/7 [==============================] - 0s 14ms/step - loss: 0.3426 - accuracy: 0.8647 - val_loss: 0.5081 - val_accuracy: 0.6667\n",
      "Epoch 54/200\n",
      "7/7 [==============================] - 0s 13ms/step - loss: 0.3399 - accuracy: 0.8647 - val_loss: 0.5069 - val_accuracy: 0.6667\n",
      "Epoch 55/200\n",
      "7/7 [==============================] - 0s 15ms/step - loss: 0.3371 - accuracy: 0.8696 - val_loss: 0.5150 - val_accuracy: 0.6667\n",
      "Epoch 56/200\n",
      "7/7 [==============================] - 0s 13ms/step - loss: 0.3364 - accuracy: 0.8696 - val_loss: 0.5218 - val_accuracy: 0.6667\n",
      "Epoch 57/200\n",
      "7/7 [==============================] - 0s 16ms/step - loss: 0.3318 - accuracy: 0.8647 - val_loss: 0.5100 - val_accuracy: 0.6667\n",
      "Epoch 58/200\n",
      "7/7 [==============================] - 0s 14ms/step - loss: 0.3305 - accuracy: 0.8696 - val_loss: 0.5078 - val_accuracy: 0.6667\n",
      "Epoch 59/200\n",
      "7/7 [==============================] - 0s 15ms/step - loss: 0.3270 - accuracy: 0.8696 - val_loss: 0.5145 - val_accuracy: 0.6667\n",
      "Epoch 60/200\n",
      "7/7 [==============================] - 0s 14ms/step - loss: 0.3251 - accuracy: 0.8647 - val_loss: 0.5214 - val_accuracy: 0.6667\n",
      "Epoch 61/200\n",
      "7/7 [==============================] - 0s 14ms/step - loss: 0.3237 - accuracy: 0.8647 - val_loss: 0.5333 - val_accuracy: 0.6667\n",
      "Epoch 62/200\n",
      "7/7 [==============================] - 0s 14ms/step - loss: 0.3207 - accuracy: 0.8647 - val_loss: 0.5368 - val_accuracy: 0.6667\n",
      "Epoch 63/200\n",
      "7/7 [==============================] - 0s 13ms/step - loss: 0.3183 - accuracy: 0.8744 - val_loss: 0.5332 - val_accuracy: 0.6667\n",
      "Epoch 64/200\n",
      "7/7 [==============================] - 0s 15ms/step - loss: 0.3160 - accuracy: 0.8696 - val_loss: 0.5237 - val_accuracy: 0.6667\n",
      "Epoch 65/200\n",
      "7/7 [==============================] - 0s 14ms/step - loss: 0.3146 - accuracy: 0.8696 - val_loss: 0.5242 - val_accuracy: 0.6667\n",
      "Epoch 66/200\n",
      "7/7 [==============================] - 0s 15ms/step - loss: 0.3100 - accuracy: 0.8744 - val_loss: 0.5297 - val_accuracy: 0.6667\n",
      "Epoch 67/200\n",
      "7/7 [==============================] - 0s 19ms/step - loss: 0.3085 - accuracy: 0.8792 - val_loss: 0.5358 - val_accuracy: 0.6667\n",
      "Epoch 68/200\n",
      "7/7 [==============================] - 0s 14ms/step - loss: 0.3060 - accuracy: 0.8744 - val_loss: 0.5363 - val_accuracy: 0.6667\n",
      "Epoch 69/200\n",
      "7/7 [==============================] - 0s 13ms/step - loss: 0.3031 - accuracy: 0.8841 - val_loss: 0.5347 - val_accuracy: 0.6667\n",
      "Epoch 70/200\n",
      "7/7 [==============================] - 0s 15ms/step - loss: 0.3011 - accuracy: 0.8744 - val_loss: 0.5332 - val_accuracy: 0.6667\n",
      "Epoch 71/200\n",
      "7/7 [==============================] - 0s 12ms/step - loss: 0.2992 - accuracy: 0.8696 - val_loss: 0.5374 - val_accuracy: 0.6667\n",
      "Epoch 72/200\n",
      "7/7 [==============================] - 0s 13ms/step - loss: 0.2961 - accuracy: 0.8792 - val_loss: 0.5350 - val_accuracy: 0.6667\n",
      "Epoch 73/200\n",
      "7/7 [==============================] - 0s 13ms/step - loss: 0.2936 - accuracy: 0.8744 - val_loss: 0.5400 - val_accuracy: 0.6667\n",
      "Epoch 74/200\n",
      "7/7 [==============================] - 0s 14ms/step - loss: 0.2935 - accuracy: 0.8841 - val_loss: 0.5367 - val_accuracy: 0.6667\n",
      "Epoch 75/200\n",
      "7/7 [==============================] - 0s 12ms/step - loss: 0.2882 - accuracy: 0.8744 - val_loss: 0.5408 - val_accuracy: 0.6667\n",
      "Epoch 76/200\n",
      "7/7 [==============================] - 0s 12ms/step - loss: 0.2872 - accuracy: 0.8744 - val_loss: 0.5483 - val_accuracy: 0.6667\n",
      "Epoch 77/200\n",
      "7/7 [==============================] - 0s 14ms/step - loss: 0.2857 - accuracy: 0.8792 - val_loss: 0.5444 - val_accuracy: 0.6667\n",
      "Epoch 78/200\n",
      "7/7 [==============================] - 0s 13ms/step - loss: 0.2803 - accuracy: 0.8889 - val_loss: 0.5341 - val_accuracy: 0.6667\n",
      "Epoch 79/200\n",
      "7/7 [==============================] - 0s 13ms/step - loss: 0.2821 - accuracy: 0.8986 - val_loss: 0.5336 - val_accuracy: 0.6667\n",
      "Epoch 80/200\n",
      "7/7 [==============================] - 0s 11ms/step - loss: 0.2792 - accuracy: 0.8986 - val_loss: 0.5440 - val_accuracy: 0.6667\n",
      "Epoch 81/200\n",
      "7/7 [==============================] - 0s 12ms/step - loss: 0.2763 - accuracy: 0.8889 - val_loss: 0.5562 - val_accuracy: 0.6667\n",
      "Epoch 82/200\n",
      "7/7 [==============================] - 0s 12ms/step - loss: 0.2735 - accuracy: 0.9034 - val_loss: 0.5599 - val_accuracy: 0.6667\n",
      "Epoch 83/200\n",
      "7/7 [==============================] - 0s 13ms/step - loss: 0.2703 - accuracy: 0.8986 - val_loss: 0.5595 - val_accuracy: 0.6667\n",
      "Epoch 84/200\n",
      "7/7 [==============================] - 0s 12ms/step - loss: 0.2680 - accuracy: 0.8986 - val_loss: 0.5482 - val_accuracy: 0.6667\n",
      "Epoch 85/200\n",
      "7/7 [==============================] - 0s 12ms/step - loss: 0.2658 - accuracy: 0.9082 - val_loss: 0.5499 - val_accuracy: 0.6667\n",
      "Epoch 86/200\n",
      "7/7 [==============================] - 0s 13ms/step - loss: 0.2638 - accuracy: 0.9179 - val_loss: 0.5540 - val_accuracy: 0.6667\n",
      "Epoch 87/200\n",
      "7/7 [==============================] - 0s 19ms/step - loss: 0.2610 - accuracy: 0.9179 - val_loss: 0.5668 - val_accuracy: 0.6667\n",
      "Epoch 88/200\n",
      "7/7 [==============================] - 0s 15ms/step - loss: 0.2589 - accuracy: 0.9179 - val_loss: 0.5711 - val_accuracy: 0.6667\n",
      "Epoch 89/200\n",
      "7/7 [==============================] - 0s 18ms/step - loss: 0.2564 - accuracy: 0.9179 - val_loss: 0.5712 - val_accuracy: 0.6667\n",
      "Epoch 90/200\n",
      "7/7 [==============================] - 0s 13ms/step - loss: 0.2551 - accuracy: 0.9082 - val_loss: 0.5621 - val_accuracy: 0.7083\n",
      "Epoch 91/200\n",
      "7/7 [==============================] - 0s 14ms/step - loss: 0.2549 - accuracy: 0.9082 - val_loss: 0.5658 - val_accuracy: 0.6667\n",
      "Epoch 92/200\n",
      "7/7 [==============================] - 0s 39ms/step - loss: 0.2497 - accuracy: 0.9179 - val_loss: 0.5768 - val_accuracy: 0.6667\n",
      "Epoch 93/200\n",
      "7/7 [==============================] - 0s 12ms/step - loss: 0.2479 - accuracy: 0.9179 - val_loss: 0.5707 - val_accuracy: 0.6667\n",
      "Epoch 94/200\n",
      "7/7 [==============================] - 0s 17ms/step - loss: 0.2431 - accuracy: 0.9227 - val_loss: 0.5631 - val_accuracy: 0.6667\n",
      "Epoch 95/200\n",
      "7/7 [==============================] - 0s 14ms/step - loss: 0.2424 - accuracy: 0.9227 - val_loss: 0.5765 - val_accuracy: 0.6667\n",
      "Epoch 96/200\n",
      "7/7 [==============================] - 0s 15ms/step - loss: 0.2409 - accuracy: 0.9179 - val_loss: 0.5870 - val_accuracy: 0.6667\n",
      "Epoch 97/200\n",
      "7/7 [==============================] - 0s 16ms/step - loss: 0.2378 - accuracy: 0.9179 - val_loss: 0.5850 - val_accuracy: 0.6667\n",
      "Epoch 98/200\n",
      "7/7 [==============================] - 0s 14ms/step - loss: 0.2328 - accuracy: 0.9324 - val_loss: 0.5859 - val_accuracy: 0.6667\n",
      "Epoch 99/200\n",
      "7/7 [==============================] - 0s 12ms/step - loss: 0.2323 - accuracy: 0.9275 - val_loss: 0.5946 - val_accuracy: 0.6667\n",
      "Epoch 100/200\n",
      "7/7 [==============================] - 0s 15ms/step - loss: 0.2278 - accuracy: 0.9275 - val_loss: 0.5901 - val_accuracy: 0.6667\n",
      "Epoch 101/200\n",
      "7/7 [==============================] - 0s 14ms/step - loss: 0.2268 - accuracy: 0.9324 - val_loss: 0.6002 - val_accuracy: 0.6667\n",
      "Epoch 102/200\n",
      "7/7 [==============================] - 0s 13ms/step - loss: 0.2219 - accuracy: 0.9372 - val_loss: 0.5976 - val_accuracy: 0.6667\n",
      "Epoch 103/200\n",
      "7/7 [==============================] - 0s 16ms/step - loss: 0.2205 - accuracy: 0.9324 - val_loss: 0.5963 - val_accuracy: 0.6667\n",
      "Epoch 104/200\n",
      "7/7 [==============================] - 0s 12ms/step - loss: 0.2187 - accuracy: 0.9275 - val_loss: 0.6009 - val_accuracy: 0.6667\n",
      "Epoch 105/200\n",
      "7/7 [==============================] - 0s 13ms/step - loss: 0.2135 - accuracy: 0.9469 - val_loss: 0.5977 - val_accuracy: 0.7083\n",
      "Epoch 106/200\n",
      "7/7 [==============================] - 0s 12ms/step - loss: 0.2104 - accuracy: 0.9469 - val_loss: 0.6095 - val_accuracy: 0.6667\n",
      "Epoch 107/200\n",
      "7/7 [==============================] - 0s 11ms/step - loss: 0.2094 - accuracy: 0.9517 - val_loss: 0.6243 - val_accuracy: 0.6667\n",
      "Epoch 108/200\n",
      "7/7 [==============================] - 0s 19ms/step - loss: 0.2059 - accuracy: 0.9469 - val_loss: 0.6088 - val_accuracy: 0.6667\n",
      "Epoch 109/200\n",
      "7/7 [==============================] - 0s 12ms/step - loss: 0.2007 - accuracy: 0.9469 - val_loss: 0.6275 - val_accuracy: 0.6667\n",
      "Epoch 110/200\n",
      "7/7 [==============================] - 0s 14ms/step - loss: 0.1966 - accuracy: 0.9517 - val_loss: 0.6454 - val_accuracy: 0.6667\n",
      "Epoch 111/200\n",
      "7/7 [==============================] - 0s 15ms/step - loss: 0.1953 - accuracy: 0.9517 - val_loss: 0.6512 - val_accuracy: 0.6667\n",
      "Epoch 112/200\n",
      "7/7 [==============================] - 0s 12ms/step - loss: 0.1903 - accuracy: 0.9565 - val_loss: 0.6319 - val_accuracy: 0.6667\n",
      "Epoch 113/200\n",
      "7/7 [==============================] - 0s 13ms/step - loss: 0.1879 - accuracy: 0.9614 - val_loss: 0.6234 - val_accuracy: 0.6667\n",
      "Epoch 114/200\n",
      "7/7 [==============================] - 0s 13ms/step - loss: 0.1840 - accuracy: 0.9565 - val_loss: 0.6542 - val_accuracy: 0.6667\n",
      "Epoch 115/200\n",
      "7/7 [==============================] - 0s 13ms/step - loss: 0.1825 - accuracy: 0.9614 - val_loss: 0.6623 - val_accuracy: 0.6667\n",
      "Epoch 116/200\n",
      "7/7 [==============================] - 0s 11ms/step - loss: 0.1790 - accuracy: 0.9565 - val_loss: 0.6641 - val_accuracy: 0.6667\n",
      "Epoch 117/200\n",
      "7/7 [==============================] - 0s 16ms/step - loss: 0.1771 - accuracy: 0.9565 - val_loss: 0.6649 - val_accuracy: 0.6667\n",
      "Epoch 118/200\n",
      "7/7 [==============================] - 0s 14ms/step - loss: 0.1730 - accuracy: 0.9662 - val_loss: 0.6503 - val_accuracy: 0.6667\n",
      "Epoch 119/200\n",
      "7/7 [==============================] - 0s 13ms/step - loss: 0.1708 - accuracy: 0.9662 - val_loss: 0.6677 - val_accuracy: 0.6667\n",
      "Epoch 120/200\n",
      "7/7 [==============================] - 0s 11ms/step - loss: 0.1691 - accuracy: 0.9662 - val_loss: 0.6950 - val_accuracy: 0.6667\n",
      "Epoch 121/200\n",
      "7/7 [==============================] - 0s 14ms/step - loss: 0.1650 - accuracy: 0.9662 - val_loss: 0.6875 - val_accuracy: 0.7083\n",
      "Epoch 122/200\n",
      "7/7 [==============================] - 0s 14ms/step - loss: 0.1638 - accuracy: 0.9662 - val_loss: 0.6792 - val_accuracy: 0.6667\n",
      "Epoch 123/200\n",
      "7/7 [==============================] - 0s 14ms/step - loss: 0.1616 - accuracy: 0.9662 - val_loss: 0.6998 - val_accuracy: 0.6667\n",
      "Epoch 124/200\n",
      "7/7 [==============================] - 0s 14ms/step - loss: 0.1594 - accuracy: 0.9710 - val_loss: 0.6952 - val_accuracy: 0.6667\n",
      "Epoch 125/200\n",
      "7/7 [==============================] - 0s 15ms/step - loss: 0.1549 - accuracy: 0.9662 - val_loss: 0.7047 - val_accuracy: 0.6667\n",
      "Epoch 126/200\n",
      "7/7 [==============================] - 0s 13ms/step - loss: 0.1525 - accuracy: 0.9710 - val_loss: 0.7149 - val_accuracy: 0.6667\n",
      "Epoch 127/200\n",
      "7/7 [==============================] - 0s 13ms/step - loss: 0.1498 - accuracy: 0.9710 - val_loss: 0.7161 - val_accuracy: 0.6667\n",
      "Epoch 128/200\n",
      "7/7 [==============================] - 0s 10ms/step - loss: 0.1493 - accuracy: 0.9662 - val_loss: 0.7312 - val_accuracy: 0.6667\n",
      "Epoch 129/200\n",
      "7/7 [==============================] - 0s 13ms/step - loss: 0.1454 - accuracy: 0.9710 - val_loss: 0.7333 - val_accuracy: 0.6667\n",
      "Epoch 130/200\n",
      "7/7 [==============================] - 0s 15ms/step - loss: 0.1438 - accuracy: 0.9662 - val_loss: 0.7372 - val_accuracy: 0.6667\n",
      "Epoch 131/200\n",
      "7/7 [==============================] - 0s 12ms/step - loss: 0.1408 - accuracy: 0.9710 - val_loss: 0.7589 - val_accuracy: 0.6667\n",
      "Epoch 132/200\n",
      "7/7 [==============================] - 0s 15ms/step - loss: 0.1396 - accuracy: 0.9710 - val_loss: 0.7709 - val_accuracy: 0.6667\n",
      "Epoch 133/200\n",
      "7/7 [==============================] - 0s 18ms/step - loss: 0.1356 - accuracy: 0.9710 - val_loss: 0.7655 - val_accuracy: 0.6667\n",
      "Epoch 134/200\n",
      "7/7 [==============================] - 0s 15ms/step - loss: 0.1347 - accuracy: 0.9710 - val_loss: 0.7643 - val_accuracy: 0.6667\n",
      "Epoch 135/200\n",
      "7/7 [==============================] - 0s 11ms/step - loss: 0.1358 - accuracy: 0.9710 - val_loss: 0.7797 - val_accuracy: 0.6667\n",
      "Epoch 136/200\n",
      "7/7 [==============================] - 0s 14ms/step - loss: 0.1310 - accuracy: 0.9662 - val_loss: 0.7784 - val_accuracy: 0.6667\n",
      "Epoch 137/200\n",
      "7/7 [==============================] - 0s 14ms/step - loss: 0.1298 - accuracy: 0.9758 - val_loss: 0.7757 - val_accuracy: 0.6667\n",
      "Epoch 138/200\n",
      "7/7 [==============================] - 0s 11ms/step - loss: 0.1309 - accuracy: 0.9710 - val_loss: 0.7700 - val_accuracy: 0.7083\n",
      "Epoch 139/200\n",
      "7/7 [==============================] - 0s 14ms/step - loss: 0.1265 - accuracy: 0.9758 - val_loss: 0.8053 - val_accuracy: 0.6667\n",
      "Epoch 140/200\n",
      "7/7 [==============================] - 0s 18ms/step - loss: 0.1251 - accuracy: 0.9662 - val_loss: 0.8029 - val_accuracy: 0.6667\n",
      "Epoch 141/200\n",
      "7/7 [==============================] - 0s 13ms/step - loss: 0.1204 - accuracy: 0.9710 - val_loss: 0.8159 - val_accuracy: 0.6667\n",
      "Epoch 142/200\n",
      "7/7 [==============================] - 0s 18ms/step - loss: 0.1208 - accuracy: 0.9710 - val_loss: 0.8097 - val_accuracy: 0.6667\n",
      "Epoch 143/200\n",
      "7/7 [==============================] - 0s 14ms/step - loss: 0.1178 - accuracy: 0.9758 - val_loss: 0.8058 - val_accuracy: 0.6667\n",
      "Epoch 144/200\n",
      "7/7 [==============================] - 0s 12ms/step - loss: 0.1168 - accuracy: 0.9710 - val_loss: 0.8283 - val_accuracy: 0.6667\n",
      "Epoch 145/200\n",
      "7/7 [==============================] - 0s 14ms/step - loss: 0.1152 - accuracy: 0.9758 - val_loss: 0.8331 - val_accuracy: 0.6667\n",
      "Epoch 146/200\n",
      "7/7 [==============================] - 0s 12ms/step - loss: 0.1130 - accuracy: 0.9758 - val_loss: 0.8448 - val_accuracy: 0.6667\n",
      "Epoch 147/200\n",
      "7/7 [==============================] - 0s 14ms/step - loss: 0.1123 - accuracy: 0.9662 - val_loss: 0.8424 - val_accuracy: 0.6667\n",
      "Epoch 148/200\n",
      "7/7 [==============================] - 0s 13ms/step - loss: 0.1103 - accuracy: 0.9758 - val_loss: 0.8480 - val_accuracy: 0.6667\n",
      "Epoch 149/200\n",
      "7/7 [==============================] - 0s 11ms/step - loss: 0.1086 - accuracy: 0.9710 - val_loss: 0.8715 - val_accuracy: 0.6667\n",
      "Epoch 150/200\n",
      "7/7 [==============================] - 0s 14ms/step - loss: 0.1068 - accuracy: 0.9662 - val_loss: 0.8760 - val_accuracy: 0.6667\n",
      "Epoch 151/200\n",
      "7/7 [==============================] - 0s 18ms/step - loss: 0.1115 - accuracy: 0.9710 - val_loss: 0.8588 - val_accuracy: 0.6667\n",
      "Epoch 152/200\n",
      "7/7 [==============================] - 0s 13ms/step - loss: 0.1085 - accuracy: 0.9710 - val_loss: 0.8651 - val_accuracy: 0.6667\n",
      "Epoch 153/200\n",
      "7/7 [==============================] - 0s 14ms/step - loss: 0.1061 - accuracy: 0.9710 - val_loss: 0.8512 - val_accuracy: 0.6667\n",
      "Epoch 154/200\n",
      "7/7 [==============================] - 0s 12ms/step - loss: 0.1006 - accuracy: 0.9758 - val_loss: 0.8805 - val_accuracy: 0.6667\n",
      "Epoch 155/200\n",
      "7/7 [==============================] - 0s 13ms/step - loss: 0.0985 - accuracy: 0.9807 - val_loss: 0.8933 - val_accuracy: 0.6667\n",
      "Epoch 156/200\n",
      "7/7 [==============================] - 0s 11ms/step - loss: 0.0964 - accuracy: 0.9807 - val_loss: 0.9117 - val_accuracy: 0.6667\n",
      "Epoch 157/200\n",
      "7/7 [==============================] - 0s 15ms/step - loss: 0.1008 - accuracy: 0.9758 - val_loss: 0.9259 - val_accuracy: 0.6667\n",
      "Epoch 158/200\n",
      "7/7 [==============================] - 0s 13ms/step - loss: 0.0946 - accuracy: 0.9807 - val_loss: 0.8992 - val_accuracy: 0.6667\n",
      "Epoch 159/200\n",
      "7/7 [==============================] - 0s 13ms/step - loss: 0.0945 - accuracy: 0.9807 - val_loss: 0.9046 - val_accuracy: 0.6667\n",
      "Epoch 160/200\n",
      "7/7 [==============================] - 0s 11ms/step - loss: 0.0934 - accuracy: 0.9807 - val_loss: 0.9378 - val_accuracy: 0.6667\n",
      "Epoch 161/200\n",
      "7/7 [==============================] - 0s 14ms/step - loss: 0.0919 - accuracy: 0.9807 - val_loss: 0.9611 - val_accuracy: 0.6667\n",
      "Epoch 162/200\n",
      "7/7 [==============================] - 0s 12ms/step - loss: 0.0897 - accuracy: 0.9855 - val_loss: 0.9479 - val_accuracy: 0.6667\n",
      "Epoch 163/200\n",
      "7/7 [==============================] - 0s 12ms/step - loss: 0.0878 - accuracy: 0.9807 - val_loss: 0.9529 - val_accuracy: 0.6667\n",
      "Epoch 164/200\n",
      "7/7 [==============================] - 0s 14ms/step - loss: 0.0874 - accuracy: 0.9807 - val_loss: 0.9718 - val_accuracy: 0.6667\n",
      "Epoch 165/200\n",
      "7/7 [==============================] - 0s 13ms/step - loss: 0.0871 - accuracy: 0.9807 - val_loss: 0.9650 - val_accuracy: 0.6667\n",
      "Epoch 166/200\n",
      "7/7 [==============================] - 0s 12ms/step - loss: 0.0844 - accuracy: 0.9855 - val_loss: 0.9590 - val_accuracy: 0.6667\n",
      "Epoch 167/200\n",
      "7/7 [==============================] - 0s 12ms/step - loss: 0.0841 - accuracy: 0.9807 - val_loss: 0.9594 - val_accuracy: 0.6667\n",
      "Epoch 168/200\n",
      "7/7 [==============================] - 0s 13ms/step - loss: 0.0828 - accuracy: 0.9855 - val_loss: 0.9753 - val_accuracy: 0.6667\n",
      "Epoch 169/200\n",
      "7/7 [==============================] - 0s 11ms/step - loss: 0.0836 - accuracy: 0.9807 - val_loss: 0.9874 - val_accuracy: 0.6667\n",
      "Epoch 170/200\n",
      "7/7 [==============================] - 0s 11ms/step - loss: 0.0815 - accuracy: 0.9807 - val_loss: 0.9791 - val_accuracy: 0.6667\n",
      "Epoch 171/200\n",
      "7/7 [==============================] - 0s 19ms/step - loss: 0.0820 - accuracy: 0.9758 - val_loss: 0.9780 - val_accuracy: 0.6667\n",
      "Epoch 172/200\n",
      "7/7 [==============================] - 0s 11ms/step - loss: 0.0796 - accuracy: 0.9855 - val_loss: 0.9950 - val_accuracy: 0.6667\n",
      "Epoch 173/200\n",
      "7/7 [==============================] - 0s 13ms/step - loss: 0.0775 - accuracy: 0.9903 - val_loss: 1.0093 - val_accuracy: 0.6667\n",
      "Epoch 174/200\n",
      "7/7 [==============================] - 0s 16ms/step - loss: 0.0774 - accuracy: 0.9807 - val_loss: 0.9890 - val_accuracy: 0.6667\n",
      "Epoch 175/200\n",
      "7/7 [==============================] - 0s 18ms/step - loss: 0.0769 - accuracy: 0.9903 - val_loss: 1.0134 - val_accuracy: 0.6667\n",
      "Epoch 176/200\n",
      "7/7 [==============================] - 0s 17ms/step - loss: 0.0756 - accuracy: 0.9903 - val_loss: 1.0353 - val_accuracy: 0.6667\n",
      "Epoch 177/200\n",
      "7/7 [==============================] - 0s 11ms/step - loss: 0.0771 - accuracy: 0.9855 - val_loss: 1.0343 - val_accuracy: 0.6667\n",
      "Epoch 178/200\n",
      "7/7 [==============================] - 0s 12ms/step - loss: 0.0734 - accuracy: 0.9855 - val_loss: 1.0335 - val_accuracy: 0.6667\n",
      "Epoch 179/200\n",
      "7/7 [==============================] - 0s 12ms/step - loss: 0.0737 - accuracy: 0.9807 - val_loss: 1.0492 - val_accuracy: 0.6667\n",
      "Epoch 180/200\n",
      "7/7 [==============================] - 0s 12ms/step - loss: 0.0727 - accuracy: 0.9903 - val_loss: 1.0574 - val_accuracy: 0.6667\n",
      "Epoch 181/200\n",
      "7/7 [==============================] - 0s 12ms/step - loss: 0.0727 - accuracy: 0.9855 - val_loss: 1.0646 - val_accuracy: 0.6667\n",
      "Epoch 182/200\n",
      "7/7 [==============================] - 0s 11ms/step - loss: 0.0719 - accuracy: 0.9807 - val_loss: 1.0706 - val_accuracy: 0.6667\n",
      "Epoch 183/200\n",
      "7/7 [==============================] - 0s 11ms/step - loss: 0.0701 - accuracy: 0.9855 - val_loss: 1.0790 - val_accuracy: 0.6667\n",
      "Epoch 184/200\n",
      "7/7 [==============================] - 0s 13ms/step - loss: 0.0700 - accuracy: 0.9807 - val_loss: 1.0864 - val_accuracy: 0.6667\n",
      "Epoch 185/200\n",
      "7/7 [==============================] - 0s 14ms/step - loss: 0.0679 - accuracy: 0.9903 - val_loss: 1.0659 - val_accuracy: 0.6667\n",
      "Epoch 186/200\n",
      "7/7 [==============================] - 0s 14ms/step - loss: 0.0691 - accuracy: 0.9855 - val_loss: 1.0769 - val_accuracy: 0.6667\n",
      "Epoch 187/200\n",
      "7/7 [==============================] - 0s 14ms/step - loss: 0.0688 - accuracy: 0.9855 - val_loss: 1.0882 - val_accuracy: 0.6667\n",
      "Epoch 188/200\n",
      "7/7 [==============================] - 0s 12ms/step - loss: 0.0662 - accuracy: 0.9807 - val_loss: 1.1053 - val_accuracy: 0.6667\n",
      "Epoch 189/200\n",
      "7/7 [==============================] - 0s 12ms/step - loss: 0.0655 - accuracy: 0.9903 - val_loss: 1.0958 - val_accuracy: 0.6667\n",
      "Epoch 190/200\n",
      "7/7 [==============================] - 0s 14ms/step - loss: 0.0649 - accuracy: 0.9855 - val_loss: 1.1052 - val_accuracy: 0.6667\n",
      "Epoch 191/200\n",
      "7/7 [==============================] - 0s 13ms/step - loss: 0.0649 - accuracy: 0.9855 - val_loss: 1.0963 - val_accuracy: 0.6667\n",
      "Epoch 192/200\n",
      "7/7 [==============================] - 0s 12ms/step - loss: 0.0636 - accuracy: 0.9855 - val_loss: 1.1000 - val_accuracy: 0.6667\n",
      "Epoch 193/200\n",
      "7/7 [==============================] - 0s 16ms/step - loss: 0.0623 - accuracy: 0.9855 - val_loss: 1.1139 - val_accuracy: 0.6667\n",
      "Epoch 194/200\n",
      "7/7 [==============================] - 0s 14ms/step - loss: 0.0637 - accuracy: 0.9807 - val_loss: 1.1269 - val_accuracy: 0.6667\n",
      "Epoch 195/200\n",
      "7/7 [==============================] - 0s 15ms/step - loss: 0.0611 - accuracy: 0.9903 - val_loss: 1.1462 - val_accuracy: 0.6667\n",
      "Epoch 196/200\n",
      "7/7 [==============================] - 0s 13ms/step - loss: 0.0613 - accuracy: 0.9855 - val_loss: 1.1363 - val_accuracy: 0.6667\n",
      "Epoch 197/200\n",
      "7/7 [==============================] - 0s 14ms/step - loss: 0.0601 - accuracy: 0.9855 - val_loss: 1.1577 - val_accuracy: 0.6667\n",
      "Epoch 198/200\n",
      "7/7 [==============================] - 0s 17ms/step - loss: 0.0595 - accuracy: 0.9855 - val_loss: 1.1286 - val_accuracy: 0.6667\n",
      "Epoch 199/200\n",
      "7/7 [==============================] - 0s 13ms/step - loss: 0.0610 - accuracy: 0.9855 - val_loss: 1.1411 - val_accuracy: 0.6667\n",
      "Epoch 200/200\n",
      "7/7 [==============================] - 0s 12ms/step - loss: 0.0619 - accuracy: 0.9855 - val_loss: 1.1451 - val_accuracy: 0.6667\n",
      "4/4 [==============================] - 0s 5ms/step - loss: 1.2601 - accuracy: 0.7172\n",
      "Test Accuracy: 71.72%\n",
      "4/4 [==============================] - 0s 5ms/step\n"
     ]
    },
    {
     "data": {
      "text/plain": [
       "(99, 1)"
      ]
     },
     "execution_count": 28,
     "metadata": {},
     "output_type": "execute_result"
    }
   ],
   "source": [
    "#Artificial Neural Networks\n",
    "ann = keras.Sequential([\n",
    "    keras.layers.Dense(11, activation='relu', input_shape=(X_train.shape[1],)),\n",
    "    keras.layers.Dense(44, activation='relu'),\n",
    "    keras.layers.Dense(11, activation='relu'),\n",
    "    keras.layers.Dense(1, activation='sigmoid')  # Use 'sigmoid' for binary classification\n",
    "])\n",
    "ann.compile(optimizer='adam',\n",
    "              loss='binary_crossentropy',  # Use 'binary_crossentropy' for binary classification\n",
    "              metrics=['accuracy'])\n",
    "history = ann.fit(X_train, y_train, epochs=200, batch_size=32, validation_split=0.1)\n",
    "test_loss, test_accuracy = ann.evaluate(X_test, y_test)\n",
    "print (f\"Test Accuracy: {test_accuracy * 100:.2f}%\")\n",
    "y_pred_ann_org = ann.predict(X_test)\n",
    "y_pred_ann = np.where(y_pred_ann_org > 0.5, 1, 0)\n",
    "y_pred_ann.shape"
   ]
  },
  {
   "cell_type": "code",
   "execution_count": 29,
   "id": "ec737379-9764-402c-959b-a00f872df436",
   "metadata": {},
   "outputs": [],
   "source": [
    "y_pred_lr = lr.predict(X_test)\n",
    "y_pred_svm = svm.predict(X_test)\n",
    "y_pred_knn = knn.predict(X_test)\n",
    "y_pred_dt = dt.predict(X_test)\n",
    "y_pred_rf = rf.predict(X_test)\n",
    "y_pred_gb = gb.predict(X_test)"
   ]
  },
  {
   "cell_type": "code",
   "execution_count": 30,
   "id": "7b931b19-be50-4729-99ec-8ba577abaa59",
   "metadata": {},
   "outputs": [],
   "source": [
    "#Measure Accuracy\n",
    "from sklearn.metrics import accuracy_score\n",
    "score_lr=accuracy_score(y_test,y_pred_lr)\n",
    "score_svm=accuracy_score(y_test,y_pred_svm)\n",
    "score_knn=accuracy_score(y_test,y_pred_knn)\n",
    "score_dt=accuracy_score(y_test,y_pred_dt)\n",
    "score_rf=accuracy_score(y_test,y_pred_rf)\n",
    "score_gb=accuracy_score(y_test,y_pred_gb)\n",
    "score_ann=accuracy_score(y_test,y_pred_ann)"
   ]
  },
  {
   "cell_type": "code",
   "execution_count": 31,
   "id": "c7341d6a-d6dc-443b-9529-d1726344cd29",
   "metadata": {},
   "outputs": [
    {
     "name": "stdout",
     "output_type": "stream",
     "text": [
      "0.7474747474747475 0.6868686868686869 0.7373737373737373 0.6868686868686869 0.7474747474747475 0.7272727272727273 0.7171717171717171\n"
     ]
    }
   ],
   "source": [
    "print(score_lr,score_svm,score_knn,score_dt,score_rf,score_gb,score_ann)"
   ]
  },
  {
   "cell_type": "code",
   "execution_count": 32,
   "id": "83c341c2-2be6-478d-beae-7922fce55e88",
   "metadata": {},
   "outputs": [],
   "source": [
    "final_data = pd.DataFrame({'Models':['LR','SVC','KNN','DT','RF','GB','ANN'],\n",
    "            'ACC':[score_lr*100,\n",
    "                  score_svm*100,\n",
    "                  score_knn*100,\n",
    "                  score_dt*100,\n",
    "                  score_rf*100,\n",
    "                   score_gb*100,\n",
    "                  score_ann*100]})"
   ]
  },
  {
   "cell_type": "code",
   "execution_count": 33,
   "id": "0ff7179d-7751-426a-b019-5cac7c5a86f4",
   "metadata": {},
   "outputs": [
    {
     "name": "stdout",
     "output_type": "stream",
     "text": [
      "  Models        ACC\n",
      "0     LR  74.747475\n",
      "1    SVC  68.686869\n",
      "2    KNN  73.737374\n",
      "3     DT  68.686869\n",
      "4     RF  74.747475\n",
      "5     GB  72.727273\n",
      "6    ANN  71.717172\n"
     ]
    }
   ],
   "source": [
    "print(final_data)"
   ]
  },
  {
   "cell_type": "code",
   "execution_count": 34,
   "id": "a85174d0-d7a4-4829-b2ef-2343beb502d0",
   "metadata": {},
   "outputs": [],
   "source": [
    "#Classification  Report\n",
    "from sklearn.metrics import classification_report"
   ]
  },
  {
   "cell_type": "code",
   "execution_count": 35,
   "id": "66540981-c399-46c8-aa4b-994ab66b7212",
   "metadata": {},
   "outputs": [
    {
     "name": "stdout",
     "output_type": "stream",
     "text": [
      "Logistic Regression\n",
      "               precision    recall  f1-score   support\n",
      "\n",
      "           0       0.77      0.90      0.83        67\n",
      "           1       0.67      0.44      0.53        32\n",
      "\n",
      "    accuracy                           0.75        99\n",
      "   macro avg       0.72      0.67      0.68        99\n",
      "weighted avg       0.74      0.75      0.73        99\n",
      "\n"
     ]
    }
   ],
   "source": [
    "print(\"Logistic Regression\\n\",classification_report(y_test,y_pred_lr))"
   ]
  },
  {
   "cell_type": "code",
   "execution_count": 36,
   "id": "17bcb408-a3a4-4f4d-8de5-1e538ab8931e",
   "metadata": {},
   "outputs": [
    {
     "name": "stdout",
     "output_type": "stream",
     "text": [
      "Support Vector Machine\n",
      "               precision    recall  f1-score   support\n",
      "\n",
      "           0       0.68      1.00      0.81        67\n",
      "           1       1.00      0.03      0.06        32\n",
      "\n",
      "    accuracy                           0.69        99\n",
      "   macro avg       0.84      0.52      0.44        99\n",
      "weighted avg       0.79      0.69      0.57        99\n",
      "\n"
     ]
    }
   ],
   "source": [
    "print(\"Support Vector Machine\\n\",classification_report(y_test,y_pred_svm))"
   ]
  },
  {
   "cell_type": "code",
   "execution_count": 37,
   "id": "33434451-1447-4d5d-9632-2d2bea1dec27",
   "metadata": {},
   "outputs": [
    {
     "name": "stdout",
     "output_type": "stream",
     "text": [
      "K-Nearest Neighbor\n",
      "               precision    recall  f1-score   support\n",
      "\n",
      "           0       0.76      0.90      0.82        67\n",
      "           1       0.65      0.41      0.50        32\n",
      "\n",
      "    accuracy                           0.74        99\n",
      "   macro avg       0.70      0.65      0.66        99\n",
      "weighted avg       0.72      0.74      0.72        99\n",
      "\n"
     ]
    }
   ],
   "source": [
    "print(\"K-Nearest Neighbor\\n\",classification_report(y_test,y_pred_knn))\n"
   ]
  },
  {
   "cell_type": "code",
   "execution_count": 38,
   "id": "1bd05509-4c2a-4089-b0a2-fa0f337d2a58",
   "metadata": {},
   "outputs": [
    {
     "name": "stdout",
     "output_type": "stream",
     "text": [
      "Decision Tree\n",
      "               precision    recall  f1-score   support\n",
      "\n",
      "           0       0.71      0.90      0.79        67\n",
      "           1       0.53      0.25      0.34        32\n",
      "\n",
      "    accuracy                           0.69        99\n",
      "   macro avg       0.62      0.57      0.57        99\n",
      "weighted avg       0.66      0.69      0.65        99\n",
      "\n"
     ]
    }
   ],
   "source": [
    "print(\"Decision Tree\\n\",classification_report(y_test,y_pred_dt))"
   ]
  },
  {
   "cell_type": "code",
   "execution_count": 39,
   "id": "5c82c91f-d9c9-431c-9211-352421538ef0",
   "metadata": {},
   "outputs": [
    {
     "name": "stdout",
     "output_type": "stream",
     "text": [
      "Random Forest\n",
      "               precision    recall  f1-score   support\n",
      "\n",
      "           0       0.73      0.99      0.84        67\n",
      "           1       0.89      0.25      0.39        32\n",
      "\n",
      "    accuracy                           0.75        99\n",
      "   macro avg       0.81      0.62      0.62        99\n",
      "weighted avg       0.78      0.75      0.70        99\n",
      "\n"
     ]
    }
   ],
   "source": [
    "print(\"Random Forest\\n\",classification_report(y_test,y_pred_rf))"
   ]
  },
  {
   "cell_type": "code",
   "execution_count": 40,
   "id": "a880dc8f-5622-4af1-99d1-3272e473fec9",
   "metadata": {},
   "outputs": [
    {
     "name": "stdout",
     "output_type": "stream",
     "text": [
      "Gradient Boosting\n",
      "               precision    recall  f1-score   support\n",
      "\n",
      "           0       0.73      0.94      0.82        67\n",
      "           1       0.69      0.28      0.40        32\n",
      "\n",
      "    accuracy                           0.73        99\n",
      "   macro avg       0.71      0.61      0.61        99\n",
      "weighted avg       0.72      0.73      0.69        99\n",
      "\n"
     ]
    }
   ],
   "source": [
    "print(\"Gradient Boosting\\n\",classification_report(y_test,y_pred_gb))"
   ]
  },
  {
   "cell_type": "code",
   "execution_count": 41,
   "id": "a61403c0-c12b-41a5-9bba-93facdc80d1f",
   "metadata": {},
   "outputs": [
    {
     "name": "stdout",
     "output_type": "stream",
     "text": [
      "Artificial Neural Networks\n",
      "               precision    recall  f1-score   support\n",
      "\n",
      "           0       0.80      0.78      0.79        67\n",
      "           1       0.56      0.59      0.58        32\n",
      "\n",
      "    accuracy                           0.72        99\n",
      "   macro avg       0.68      0.68      0.68        99\n",
      "weighted avg       0.72      0.72      0.72        99\n",
      "\n"
     ]
    }
   ],
   "source": [
    "print(\"Artificial Neural Networks\\n\",classification_report(y_test,y_pred_ann))"
   ]
  },
  {
   "cell_type": "code",
   "execution_count": 46,
   "id": "72454bd4-d20c-426a-b760-544d7f3fc6fa",
   "metadata": {},
   "outputs": [
    {
     "name": "stdout",
     "output_type": "stream",
     "text": [
      "WARNING:tensorflow:5 out of the last 8 calls to <function Model.make_predict_function.<locals>.predict_function at 0x000002B2EA5B6CB0> triggered tf.function retracing. Tracing is expensive and the excessive number of tracings could be due to (1) creating @tf.function repeatedly in a loop, (2) passing tensors with different shapes, (3) passing Python objects instead of tensors. For (1), please define your @tf.function outside of the loop. For (2), @tf.function has reduce_retracing=True option that can avoid unnecessary retracing. For (3), please refer to https://www.tensorflow.org/guide/function#controlling_retracing and https://www.tensorflow.org/api_docs/python/tf/function for  more details.\n",
      "1/1 [==============================] - 0s 117ms/step\n",
      "1/1 [==============================] - 0s 72ms/step\n",
      "1/1 [==============================] - 0s 78ms/step\n",
      "1/1 [==============================] - 0s 62ms/step\n",
      "1/1 [==============================] - 0s 64ms/step\n",
      "1/1 [==============================] - 0s 69ms/step\n"
     ]
    }
   ],
   "source": [
    "# GUI\n",
    "import tkinter as tk\n",
    "from tkinter import ttk\n",
    "import joblib\n",
    "\n",
    "# Assuming 'ann' is your trained model\n",
    "joblib.dump(ann, 'model_campus_placement')\n",
    "model = joblib.load('model_campus_placement')\n",
    "\n",
    "def predict_placement():\n",
    "    # Get user input from the GUI\n",
    "    quants = float(input_fields[0].get())\n",
    "    logical_reasoning = float(input_fields[1].get())\n",
    "    verbal = float(input_fields[2].get())\n",
    "    programming = float(input_fields[3].get())\n",
    "    cgpa = float(input_fields[4].get())\n",
    "    networking = float(input_fields[5].get())\n",
    "    cloud_comp = float(input_fields[6].get())\n",
    "    web_services = float(input_fields[7].get())\n",
    "    data_analytics = float(input_fields[8].get())\n",
    "    quality_assurance = float(input_fields[9].get())\n",
    "    ai = float(input_fields[10].get())\n",
    "\n",
    "    # Create a new data point\n",
    "    new_data = [[quants, logical_reasoning, verbal, programming, cgpa, networking,\n",
    "                 cloud_comp, web_services, data_analytics, quality_assurance, ai]]\n",
    "\n",
    "    # Make predictions using the model\n",
    "    placement_probability = model.predict(new_data)\n",
    "\n",
    "    # Extract the scalar value from the NumPy array\n",
    "    probability_value = placement_probability[0, 0]\n",
    "\n",
    "    if probability_value > 0.5:\n",
    "        result_label.config(text=\"You will get Placed with this performance\")\n",
    "        probability_label.config(text=f\"Probability: {probability_value:.2f}\")\n",
    "    else:\n",
    "        result_label.config(text=\"You will Not get Placed with this performance\")\n",
    "        probability_label.config(text=f\"Probability: {probability_value:.2f}\")\n",
    "\n",
    "# Rest of your code...\n",
    "\n",
    "\n",
    "# Create the main GUI window\n",
    "root = tk.Tk()\n",
    "root.title(\"Placement Prediction System\")\n",
    "\n",
    "# Create labels and entry fields for user input\n",
    "labels = ['Quants', 'Logical Reasoning', 'Verbal', 'Programming', 'CGPA',\n",
    "          'Networking', 'Cloud Computing', 'Web Services', 'Data Analytics',\n",
    "          'Quality Assurance', 'AI']\n",
    "\n",
    "input_fields = []\n",
    "\n",
    "for i, label_text in enumerate(labels):\n",
    "    label = tk.Label(root, text=label_text + \":\")\n",
    "    label.grid(row=i, column=0, padx=125, pady=10, sticky=\"w\")\n",
    "    entry = tk.Entry(root)\n",
    "    entry.grid(row=i, column=1, padx=125, pady=10)\n",
    "    input_fields.append(entry)\n",
    "\n",
    "# Create a button to make predictions\n",
    "predict_button = tk.Button(root, text=\"Predict Placement\", command=predict_placement)\n",
    "predict_button.grid(row=len(labels), columnspan=2, pady=10)\n",
    "\n",
    "# Create labels to display the prediction result\n",
    "result_label = tk.Label(root, text=\"\")\n",
    "result_label.grid(row=len(labels) + 1, columnspan=2)\n",
    "\n",
    "probability_label = tk.Label(root, text=\"\")\n",
    "probability_label.grid(row=len(labels) + 2, columnspan=2)\n",
    "\n",
    "# Start the GUI event loop\n",
    "root.mainloop()\n"
   ]
  },
  {
   "cell_type": "code",
   "execution_count": null,
   "id": "ffce5b1f-efc3-4920-9fea-69ec29983ca5",
   "metadata": {},
   "outputs": [],
   "source": []
  }
 ],
 "metadata": {
  "kernelspec": {
   "display_name": "Python 3 (ipykernel)",
   "language": "python",
   "name": "python3"
  },
  "language_info": {
   "codemirror_mode": {
    "name": "ipython",
    "version": 3
   },
   "file_extension": ".py",
   "mimetype": "text/x-python",
   "name": "python",
   "nbconvert_exporter": "python",
   "pygments_lexer": "ipython3",
   "version": "3.10.11"
  }
 },
 "nbformat": 4,
 "nbformat_minor": 5
}
